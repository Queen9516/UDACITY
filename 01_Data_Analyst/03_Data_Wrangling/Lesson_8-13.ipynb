{
 "cells": [
  {
   "cell_type": "markdown",
   "metadata": {},
   "source": [
    "<a id='Top of document'></a>"
   ]
  },
  {
   "cell_type": "markdown",
   "metadata": {},
   "source": [
    "# Data Wrangling\n",
    "\n",
    "* [DB-API Playground](#db_api_playground)\n",
    "    * [Display as DataFrame](#display_as_df)\n",
    "* [Lesson 13: OpenStreetMap Data](#lesson_13)\n",
    "    * [3. Quiz: Iterative Parsing](#quiz_iter_parsing)\n",
    "    * [5. Iterating Through Ways Tags](#iterating_way_tags)\n",
    "    * [6. Quiz: Tag Types](#quiz_tag_types)\n",
    "    * [7. Quiz: Exploring Users](#quiz_exploring_users)\n",
    "    * [10. Quiz: Improving Street Names](#quiz_improving_street_names)"
   ]
  },
  {
   "cell_type": "markdown",
   "metadata": {},
   "source": [
    "[Back to top](#Top of document)\n",
    "<a id='db_api_playground'></a>"
   ]
  },
  {
   "cell_type": "markdown",
   "metadata": {},
   "source": [
    "# DB API - Playground"
   ]
  },
  {
   "cell_type": "code",
   "execution_count": null,
   "metadata": {
    "collapsed": true
   },
   "outputs": [],
   "source": [
    "import sqlite3\n",
    "import os"
   ]
  },
  {
   "cell_type": "code",
   "execution_count": null,
   "metadata": {
    "collapsed": true
   },
   "outputs": [],
   "source": [
    "path = r'D:\\sqlite_windows'"
   ]
  },
  {
   "cell_type": "code",
   "execution_count": null,
   "metadata": {
    "collapsed": true
   },
   "outputs": [],
   "source": [
    "data_base = 'Chinook_Sqlite.db'\n",
    "data_base = os.path.join(path, data_base)"
   ]
  },
  {
   "cell_type": "code",
   "execution_count": null,
   "metadata": {
    "collapsed": true
   },
   "outputs": [],
   "source": [
    "db = sqlite3.connect('data_base')"
   ]
  },
  {
   "cell_type": "code",
   "execution_count": null,
   "metadata": {
    "collapsed": true
   },
   "outputs": [],
   "source": [
    "c = db.cursor()"
   ]
  },
  {
   "cell_type": "code",
   "execution_count": null,
   "metadata": {
    "collapsed": true
   },
   "outputs": [],
   "source": [
    "QUERY = 'SELECT * FROM Invoice'"
   ]
  },
  {
   "cell_type": "code",
   "execution_count": null,
   "metadata": {
    "collapsed": true
   },
   "outputs": [],
   "source": [
    "c.execute(QUERY)"
   ]
  },
  {
   "cell_type": "code",
   "execution_count": null,
   "metadata": {
    "collapsed": true
   },
   "outputs": [],
   "source": [
    "rows = c.fetchall()"
   ]
  },
  {
   "cell_type": "code",
   "execution_count": null,
   "metadata": {
    "collapsed": true,
    "scrolled": true
   },
   "outputs": [],
   "source": [
    "print(rows)"
   ]
  },
  {
   "cell_type": "code",
   "execution_count": null,
   "metadata": {
    "collapsed": true
   },
   "outputs": [],
   "source": [
    "for i, row in enumerate(rows):\n",
    "    print(f'Row {i}: {row}')"
   ]
  },
  {
   "cell_type": "markdown",
   "metadata": {},
   "source": [
    "[Back to top](#Top of document)\n",
    "<a id='display_as_df'></a>"
   ]
  },
  {
   "cell_type": "markdown",
   "metadata": {},
   "source": [
    "## Display as a DataFrame"
   ]
  },
  {
   "cell_type": "code",
   "execution_count": null,
   "metadata": {
    "collapsed": true
   },
   "outputs": [],
   "source": [
    "import pandas as pd\n",
    "pd.set_option('display.max_rows', 999)\n",
    "pd.set_option('expand_frame_repr', False)"
   ]
  },
  {
   "cell_type": "code",
   "execution_count": null,
   "metadata": {
    "collapsed": true,
    "scrolled": true
   },
   "outputs": [],
   "source": [
    "df = pd.DataFrame(rows)\n",
    "print(df)"
   ]
  },
  {
   "cell_type": "code",
   "execution_count": null,
   "metadata": {
    "collapsed": true
   },
   "outputs": [],
   "source": [
    "db.close()"
   ]
  },
  {
   "cell_type": "code",
   "execution_count": null,
   "metadata": {
    "collapsed": true
   },
   "outputs": [],
   "source": []
  },
  {
   "cell_type": "markdown",
   "metadata": {
    "collapsed": true
   },
   "source": [
    "[Back to top](#Top of document)\n",
    "<a id='lesson_13'></a>"
   ]
  },
  {
   "cell_type": "markdown",
   "metadata": {},
   "source": [
    "# Lesson 13: OpenStreetMap Data"
   ]
  },
  {
   "cell_type": "markdown",
   "metadata": {},
   "source": [
    "### Imports"
   ]
  },
  {
   "cell_type": "code",
   "execution_count": 2,
   "metadata": {
    "collapsed": true
   },
   "outputs": [],
   "source": [
    "import xml.etree.cElementTree as ET\n",
    "import pprint\n",
    "import os\n",
    "from collections import defaultdict\n",
    "import re"
   ]
  },
  {
   "cell_type": "markdown",
   "metadata": {},
   "source": [
    "### File"
   ]
  },
  {
   "cell_type": "code",
   "execution_count": 3,
   "metadata": {
    "collapsed": true
   },
   "outputs": [],
   "source": [
    "#osm_file = open('chicago_illinois.osm', 'rb')\n",
    "#osm_example = open('example.osm')\n",
    "osm_portland = 'D:/PythonProjects/UDACITY/01_Data_Analyst/03_Data_Wrangling/Data Wrangling ' \\\n",
    "            'Project/portland_oregon_50_sample.osm'\n",
    "osm_portland_full = 'D:/PythonProjects/UDACITY/01_Data_Analyst/03_Data_Wrangling/Data Wrangling ' \\\n",
    "            'Project/portland_oregon.osm'"
   ]
  },
  {
   "cell_type": "markdown",
   "metadata": {},
   "source": [
    "### OpenStreetMap Functions"
   ]
  },
  {
   "cell_type": "code",
   "execution_count": 3,
   "metadata": {
    "collapsed": true
   },
   "outputs": [],
   "source": [
    "street_type_re = re.compile(r'\\b\\S+\\.?$', re.IGNORECASE)\n",
    "street_types = defaultdict(int)"
   ]
  },
  {
   "cell_type": "code",
   "execution_count": 4,
   "metadata": {
    "collapsed": true
   },
   "outputs": [],
   "source": [
    "def audit_street_type(street_types, street_name):\n",
    "    m = street_type_re.search(street_name)\n",
    "    if m:\n",
    "        street_type = m.group()\n",
    "        street_types[street_type] += 1"
   ]
  },
  {
   "cell_type": "code",
   "execution_count": 5,
   "metadata": {
    "collapsed": true
   },
   "outputs": [],
   "source": [
    "def print_sorted_dict(d):\n",
    "    keys = d.keys()\n",
    "    keys = sorted(keys, key=lambda s: s.lower())\n",
    "    for k in keys:\n",
    "        v = d[k]\n",
    "        print(f'{k}: {v}')"
   ]
  },
  {
   "cell_type": "code",
   "execution_count": 6,
   "metadata": {
    "collapsed": true
   },
   "outputs": [],
   "source": [
    "def is_street_name(elem):\n",
    "    return (elem.tag == 'tag') and (elem.attrib['k'] == 'addr:street')"
   ]
  },
  {
   "cell_type": "code",
   "execution_count": 7,
   "metadata": {
    "collapsed": true
   },
   "outputs": [],
   "source": [
    "def audit(osm_file):\n",
    "    for event, elem in ET.iterparse(osm_file):\n",
    "        if is_street_name(elem):\n",
    "            audit_street_type(street_types, elem.attrib['v'])\n",
    "        print_sorted_dict(street_types)\n",
    "        \n",
    "    osm_file.close()"
   ]
  },
  {
   "cell_type": "markdown",
   "metadata": {},
   "source": [
    "[Back to top](#Top of document)\n",
    "<a id='quiz_iter_parsing'></a>"
   ]
  },
  {
   "cell_type": "markdown",
   "metadata": {},
   "source": [
    "## 3. Quiz: Iterative Parsing\n",
    "\n",
    "Your task is to use the iterative parsing to process the map file and\n",
    "find out not only what tags are there, but also how many, to get the\n",
    "feeling on how much of which data you can expect to have in the map.\n",
    "Fill out the count_tags function. It should return a dictionary with the \n",
    "tag name as the key and number of times this tag can be encountered in \n",
    "the map as value."
   ]
  },
  {
   "cell_type": "markdown",
   "metadata": {},
   "source": [
    "[The ElemementTree iterpase function](http://effbot.org/zone/element-iterparse.htm)"
   ]
  },
  {
   "cell_type": "code",
   "execution_count": 14,
   "metadata": {
    "collapsed": true
   },
   "outputs": [],
   "source": [
    "def count_tags(filename):\n",
    "    count = 0\n",
    "    tag_dict = {}\n",
    "    for event, elem in ET.iterparse(filename):\n",
    "        count += 1\n",
    "        if elem.tag not in tag_dict:\n",
    "            tag_dict[elem.tag] = 1\n",
    "        else:\n",
    "            tag_dict[elem.tag] += 1\n",
    "        if count >= 100000:\n",
    "            break\n",
    "    elem.clear()\n",
    "    \n",
    "    #filename.close()\n",
    "    return tag_dict"
   ]
  },
  {
   "cell_type": "code",
   "execution_count": 13,
   "metadata": {},
   "outputs": [
    {
     "data": {
      "text/plain": [
       "{'bounds': 1, 'node': 9908, 'tag': 91}"
      ]
     },
     "execution_count": 13,
     "metadata": {},
     "output_type": "execute_result"
    }
   ],
   "source": [
    "count_tags(osm_portland_full)"
   ]
  },
  {
   "cell_type": "markdown",
   "metadata": {},
   "source": [
    "## Test"
   ]
  },
  {
   "cell_type": "code",
   "execution_count": null,
   "metadata": {
    "collapsed": true
   },
   "outputs": [],
   "source": [
    "def test(filename):\n",
    "\n",
    "    tags = count_tags(filename)\n",
    "    pprint.pprint(tags)\n",
    "    assert tags == {'bounds': 1,\n",
    "                     'member': 3,\n",
    "                     'nd': 4,\n",
    "                     'node': 20,\n",
    "                     'osm': 1,\n",
    "                     'relation': 1,\n",
    "                     'tag': 7,\n",
    "                     'way': 1}"
   ]
  },
  {
   "cell_type": "code",
   "execution_count": null,
   "metadata": {
    "collapsed": true
   },
   "outputs": [],
   "source": [
    "test(osm_example)"
   ]
  },
  {
   "cell_type": "markdown",
   "metadata": {},
   "source": [
    "### Non-Iterative XML Parsing Example"
   ]
  },
  {
   "cell_type": "code",
   "execution_count": null,
   "metadata": {
    "collapsed": true
   },
   "outputs": [],
   "source": [
    "def count_tag_non_iterative(filename):\n",
    "    tree = ET.parse(filename)\n",
    "    root = tree.getroot()\n",
    "    tag_dict = {}\n",
    "    for child in root:\n",
    "        if child.tag not in tag_dict:\n",
    "            tag_dict[child.tag] = 1\n",
    "        else:\n",
    "            tag_dict[child.tag] += 1\n",
    "            \n",
    "    filename.close()\n",
    "    return tag_dict\n",
    "    root.clear()\n"
   ]
  },
  {
   "cell_type": "code",
   "execution_count": null,
   "metadata": {
    "collapsed": true
   },
   "outputs": [],
   "source": [
    "count_tag_non_iterative(osm_example)"
   ]
  },
  {
   "cell_type": "markdown",
   "metadata": {},
   "source": [
    "### Dict Testing"
   ]
  },
  {
   "cell_type": "code",
   "execution_count": null,
   "metadata": {
    "collapsed": true
   },
   "outputs": [],
   "source": [
    "d = {'x': 1, 'y': 2, 'z': 3}"
   ]
  },
  {
   "cell_type": "code",
   "execution_count": null,
   "metadata": {
    "collapsed": true
   },
   "outputs": [],
   "source": [
    "d['x'] += 1\n",
    "d['x']"
   ]
  },
  {
   "cell_type": "code",
   "execution_count": null,
   "metadata": {
    "collapsed": true
   },
   "outputs": [],
   "source": [
    "if 'a' not in d:\n",
    "    print('\"a\" is not a key in d')"
   ]
  },
  {
   "cell_type": "markdown",
   "metadata": {
    "collapsed": true
   },
   "source": [
    "[Back to top](#Top of document)\n",
    "<a id='iterating_way_tags'></a>"
   ]
  },
  {
   "cell_type": "markdown",
   "metadata": {
    "collapsed": true
   },
   "source": [
    "## 5. Iterating through Ways Tags"
   ]
  },
  {
   "cell_type": "markdown",
   "metadata": {
    "collapsed": true
   },
   "source": [
    "### Modified OpenStreetMap Functions"
   ]
  },
  {
   "cell_type": "code",
   "execution_count": 15,
   "metadata": {
    "collapsed": true
   },
   "outputs": [],
   "source": [
    "import xml.etree.cElementTree as ET\n",
    "from collections import defaultdict\n",
    "import re\n",
    "import pprint"
   ]
  },
  {
   "cell_type": "code",
   "execution_count": null,
   "metadata": {
    "collapsed": true
   },
   "outputs": [],
   "source": [
    "#osm_file = open('chicago_illinois.osm', 'rb')\n",
    "#osm_example = open('example.osm')\n",
    "osm_example = open('portland_oregon_50_sample.osm')"
   ]
  },
  {
   "cell_type": "code",
   "execution_count": 34,
   "metadata": {
    "collapsed": true
   },
   "outputs": [],
   "source": [
    "street_type_re = re.compile(r'\\b\\S+\\.?$', re.IGNORECASE)\n",
    "street_types = defaultdict(set)\n",
    "\n",
    "expected = ['Street', 'Avenue', 'Boulevard', 'Drive', 'Court', 'Place', 'Square', 'Lane', 'Road',\n",
    "            'Parkway', 'Commons', 'Highway', 'Loop', 'Terrace', 'Trail', 'Way', 'North', 'South',\n",
    "            'West', 'East', 'Circle', 'Broadway', 'Path', 'View']"
   ]
  },
  {
   "cell_type": "code",
   "execution_count": 4,
   "metadata": {
    "collapsed": true
   },
   "outputs": [],
   "source": [
    "def audit_street_type(street_types, street_name):\n",
    "    m = street_type_re.search(street_name)\n",
    "    if m:\n",
    "        street_type = m.group()\n",
    "        if street_type not in expected:\n",
    "            street_types[street_type].add(street_name)\n",
    "            "
   ]
  },
  {
   "cell_type": "code",
   "execution_count": 5,
   "metadata": {
    "collapsed": true
   },
   "outputs": [],
   "source": [
    "def print_sorted_dict(d):\n",
    "    keys = d.keys()\n",
    "    keys = sorted(keys, key=lambda s: s.lower())\n",
    "    for k in keys:\n",
    "        v = d[k]\n",
    "        print(f'{k}: {v}')"
   ]
  },
  {
   "cell_type": "code",
   "execution_count": 6,
   "metadata": {
    "collapsed": true
   },
   "outputs": [],
   "source": [
    "def is_street_name(elem):\n",
    "    return (elem.attrib['k'] == 'addr:street')"
   ]
  },
  {
   "cell_type": "code",
   "execution_count": 26,
   "metadata": {
    "collapsed": true
   },
   "outputs": [],
   "source": [
    "def audit(filename):\n",
    "    for event, elem in ET.iterparse(filename, events=('start',)):\n",
    "        if elem.tag == 'way':\n",
    "            for tag in elem.iter('tag'):\n",
    "                if is_street_name(tag):\n",
    "                    audit_street_type(street_types, tag.attrib['v'])\n",
    "    pprint.pprint(dict(street_types))\n",
    "    #print_sorted_dict(street_types)\n",
    "    return(dict(street_types))\n",
    "    #filename.close()"
   ]
  },
  {
   "cell_type": "code",
   "execution_count": 52,
   "metadata": {},
   "outputs": [
    {
     "name": "stdout",
     "output_type": "stream",
     "text": [
      "{'155th': {'Southwest 155th'},\n",
      " '156th': {'Southwest 156th'},\n",
      " '157th': {'Southwest 157th'},\n",
      " '158th': {'Southwest 158th'},\n",
      " '160th': {'Southwest 160th'},\n",
      " '163rd': {'Southwest 163rd'},\n",
      " '165th': {'Southwest 165th'},\n",
      " '170': {'South Highway 170'},\n",
      " '211': {'Highway 211', 'Southeast Highway 211', 'South Highway 211'},\n",
      " '212': {' Southeast Hwy 212', 'SE Highway 212', 'Southeast Highway 212'},\n",
      " '213': {'South Highway 213', 'Highway 213'},\n",
      " '224': {'Northwest Highway 224',\n",
      "         'South Highway 224',\n",
      "         'Southeast Highway 224',\n",
      "         'Southwest Highway 224'},\n",
      " '26': {'Highway 26', 'Southeast Highway 26'},\n",
      " '4616': {'4616'},\n",
      " '47': {'Northwest Highway 47',\n",
      "        'Southwest Highway 47',\n",
      "        'Southwest Old Highway 47'},\n",
      " '91st': {'SW 91st'},\n",
      " '99': {'Northeast Highway 99'},\n",
      " '99E': {'South Highway 99E', 'Highway 99E'},\n",
      " '99W': {'North Highway 99W',\n",
      "         'Northeast Highway 99W',\n",
      "         'Southwest Old Highway 99W'},\n",
      " '99e': {'South Highway 99e'},\n",
      " 'Ankeny': {'SE Ankeny'},\n",
      " 'Ave': {'12120 SW Imperial Ave',\n",
      "         '33rd Ave',\n",
      "         '4th Ave',\n",
      "         'NE 10th Ave',\n",
      "         'NE 37th Ave',\n",
      "         'NE 3rd Ave',\n",
      "         'NW 12th Ave',\n",
      "         'NW 143rd Ave',\n",
      "         'NW 334th Ave',\n",
      "         'North 20th Ave',\n",
      "         'North 26th Ave',\n",
      "         'North Interstate Ave',\n",
      "         'Northwest 185th Ave',\n",
      "         'Pacific Ave',\n",
      "         'SE 12th Ave',\n",
      "         'SE 162nd Ave',\n",
      "         'SE 60th Ave',\n",
      "         'SE 96th Ave',\n",
      "         'SW 11th Ave',\n",
      "         'SW 125th Ave',\n",
      "         'SW 78th Ave',\n",
      "         'Southeast 172nd Ave'},\n",
      " 'Ave.': {'N. Charleston Ave.', 'NE 12th Ave.', 'NW 21st Ave.'},\n",
      " 'Blvd.': {'21200 Northwest Rock Creek Blvd.'},\n",
      " 'Botticelli': {'Botticelli'},\n",
      " 'Brighton': {'Southwest Brighton'},\n",
      " 'Byway': {'Southwest Kings Byway'},\n",
      " 'Cervantes': {'Cervantes'},\n",
      " 'Chantilly': {'Southwest Chantilly'},\n",
      " 'Churchill': {'Southwest Churchill'},\n",
      " 'Circus': {'Northwest Luray Circus',\n",
      "            'Southwest Aventine Circus',\n",
      "            'Southwest Esquiline Circus',\n",
      "            'Southwest Fairview Circus'},\n",
      " 'Crescent': {'Northwest Ramsey Crescent'},\n",
      " 'Crest': {'Southwest Humphrey Park Crest', 'Collins Crest', 'Eagle Crest'},\n",
      " 'Curve': {'Horseshoe Curve'},\n",
      " 'Cynthia': {'Southwest Cynthia'},\n",
      " 'Douglas': {'Douglas'},\n",
      " 'Downs': {'Churchill Downs'},\n",
      " 'Dr': {'NE Estate Dr',\n",
      "        'NE Parkway Dr',\n",
      "        'North Marine Dr',\n",
      "        'SW Conestoga Dr',\n",
      "        'SW Cormorant Dr',\n",
      "        'SW Downing Dr'},\n",
      " 'Dr.': {'Upper Dr.'},\n",
      " 'End': {'Southeast Roads End', 'Northwest Roads End'},\n",
      " 'Falstaff': {'Falstaff'},\n",
      " 'Fieldcrest': {'Southeast Fieldcrest'},\n",
      " 'GLN': {'Southwest Malcolm GLN'},\n",
      " 'Greco': {'El Greco'},\n",
      " 'Greenway': {'Southwest Greenway'},\n",
      " 'Grotto': {'The Grotto'},\n",
      " 'Heights': {'Southeast Belmore Heights'},\n",
      " 'Hotspur': {'Hotspur'},\n",
      " 'Hwy': {'Historic Columbia River Hwy',\n",
      "         'NW Sunset Hwy',\n",
      "         'SW Hillsboro Hwy',\n",
      "         'SW Tualatin Valley Hwy'},\n",
      " 'Jamaica': {'Southwest Jamaica'},\n",
      " 'Landing': {'Old River Landing', 'Northeast Boones Ferry Landing'},\n",
      " 'Ln': {'S Rutherford Ln'},\n",
      " 'Miami': {'Southwest Miami'},\n",
      " 'Mississippi': {'North Mississippi'},\n",
      " 'Northbound': {'I5 Freeway Northbound'},\n",
      " 'Northeast': {'Donald Road Northeast', 'Arney Road Northeast'},\n",
      " 'OR)': {'US 26 (OR)'},\n",
      " 'Pacific': {'Pacific'},\n",
      " 'Pericles': {'Pericles'},\n",
      " 'Pimlico': {'Pimlico'},\n",
      " 'Pkwy': {'NW Skycrest Pkwy'},\n",
      " 'Pky': {'NW Skycrest Pky'},\n",
      " 'Point': {'Southwest East Lake Point', 'Southwest Cypress Point'},\n",
      " 'Pointe': {'Cabana Pointe'},\n",
      " 'Polonius': {'Polonius'},\n",
      " 'Preakness': {'Southwest Preakness'},\n",
      " 'Rd': {'NW Cornell Rd',\n",
      "        'NW Laidlaw Rd',\n",
      "        'NW Timber Rd',\n",
      "        'Old Portland Rd',\n",
      "        'SE Foster Rd',\n",
      "        'SE Sunnyside Rd',\n",
      "        'SW Bany Rd',\n",
      "        'SW Brockman Rd',\n",
      "        'SW Farmington Rd',\n",
      "        'SW Nicol Rd',\n",
      "        'SW Rock Creek Rd',\n",
      "        'SW Scholls Ferry Rd'},\n",
      " 'Rode': {'Northeast Rode'},\n",
      " 'Run': {'Fox Run',\n",
      "         'Pheasant Run',\n",
      "         'Southwest Gordons Run',\n",
      "         'Southwest Wheatland Run'},\n",
      " 'Sandy': {'NE Sandy'},\n",
      " 'Skidmore': {'N Skidmore'},\n",
      " 'Southbound': {'I5 Freeway Southbound'},\n",
      " 'Spinosa': {'Spinosa'},\n",
      " 'Srive': {'North Marine Srive'},\n",
      " 'St': {'N Front St',\n",
      "        'NE Broadway St',\n",
      "        'NE Broadways St',\n",
      "        'NE Lenox St',\n",
      "        'NE Lincoln St',\n",
      "        'NE Multnomah St',\n",
      "        'NW Darnielle St',\n",
      "        'NW Pettygrove St',\n",
      "        'North Prescott St',\n",
      "        'Northeast Lincoln St',\n",
      "        'Northwest Birch St',\n",
      "        'SE Ankeny St',\n",
      "        'SE Division St',\n",
      "        'SE Oak St',\n",
      "        'SW 5th St',\n",
      "        'SW Inglewood St',\n",
      "        'SW Jefferson St',\n",
      "        'Southeast Lois St',\n",
      "        'Z St'},\n",
      " 'St.': {'N Lombard St.',\n",
      "         'N. Lombard St.',\n",
      "         'NW 18th St.',\n",
      "         'NW Raleigh St.',\n",
      "         'North Lombard St.'},\n",
      " 'Summac': {'Southwest Summac'},\n",
      " 'Summit': {'Nansen Summit', 'Oswego Summit'},\n",
      " 'TRL': {'Southeast Hittay TRL'},\n",
      " 'Terre': {'Southeast La Bonne Terre'},\n",
      " 'Touchstone': {'Touchstone'},\n",
      " 'Vista': {'Northeast Dutch Vista'},\n",
      " 'Walk': {\"Nature'S Walk\"},\n",
      " 'Wheatherstone': {'Wheatherstone'},\n",
      " 'Wheatland': {'Southwest Wheatland'},\n",
      " 'Willamina': {'Willamina'},\n",
      " 'Woods': {'Trillium Woods', 'Summer Woods'},\n",
      " 'st.': {'N. Lombard st.', 'North Harborgate st.'},\n",
      " 'street': {'Main street'},\n",
      " 'unknown': {'unknown'}}\n"
     ]
    }
   ],
   "source": [
    "way_tags_audit = audit(osm_portland_full)"
   ]
  },
  {
   "cell_type": "code",
   "execution_count": 53,
   "metadata": {},
   "outputs": [
    {
     "name": "stdout",
     "output_type": "stream",
     "text": [
      "['Ave', 'St.', '47', '213', '224', '211', '26', 'Run', 'Touchstone', '99E', 'Preakness', 'Chantilly', '99', 'Byway', '212', 'TRL', '156th', 'Rd', 'Dr', 'Blvd.', 'Northeast', 'St', 'Ave.', 'Hwy', '91st', 'Pky', 'Ankeny', 'Skidmore', '4616', 'Landing', 'Botticelli', '170', 'Sandy', 'street', '99W', 'Pkwy', 'st.', 'Willamina', 'Douglas', 'Walk', 'Pacific', 'End', 'Point', '99e', 'Terre', 'Vista', 'GLN', 'Wheatland', 'Summac', 'Cynthia', '160th', '163rd', 'Greenway', 'Mississippi', 'Crest', 'Pointe', 'Grotto', 'Downs', 'Polonius', 'Falstaff', 'Pimlico', 'Wheatherstone', 'Woods', 'Hotspur', 'Greco', 'Curve', 'Jamaica', 'Churchill', 'Miami', 'Northbound', 'Southbound', 'Dr.', 'OR)', 'Circus', 'Crescent', 'Spinosa', 'Summit', 'Pericles', 'Cervantes', 'Ln', 'Srive', 'Fieldcrest', 'Heights', 'Brighton', 'unknown', '158th', '155th', '165th', '157th', 'Rode']\n"
     ]
    }
   ],
   "source": [
    "unexpected_street_names = list(map(lambda k : k, way_tags_audit ))\n",
    "print(unexpected_street_names)"
   ]
  },
  {
   "cell_type": "markdown",
   "metadata": {},
   "source": [
    "### Problem Street Names\n",
    "* 'Srive': {'North Marine Srive'}\n",
    "* 'Southbound': {'I5 Freeway Southbound'}\n",
    "* 'Pointe': {'Cabana Pointe'}\n",
    "* 'Polonius': {'Polonius'}\n",
    "* 'OR)': {'US 26 (OR)'}\n",
    "*"
   ]
  },
  {
   "cell_type": "markdown",
   "metadata": {
    "collapsed": true
   },
   "source": [
    "[Back to top](#Top of document)\n",
    "<a id='quiz_tag_types'></a>"
   ]
  },
  {
   "cell_type": "markdown",
   "metadata": {},
   "source": [
    "## 6. Quiz: Tag Types\n",
    "\n",
    "Your task is to explore the data a bit more.\n",
    "Before you process the data and add it into your database, you should check the\n",
    "\"k\" value for each \"tag\" and see if there are any potential problems.\n",
    "\n",
    "We have provided you with 3 regular expressions to check for certain patterns\n",
    "in the tags. As we saw in the quiz earlier, we would like to change the data\n",
    "model and expand the \"addr:street\" type of keys to a dictionary like this:\n",
    "{\"address\": {\"street\": \"Some value\"}}\n",
    "So, we have to see if we have such tags, and if we have any tags with\n",
    "problematic characters.\n",
    "\n",
    "Please complete the function 'key_type', such that we have a count of each of\n",
    "four tag categories in a dictionary:\n",
    "  \"lower\", for tags that contain only lowercase letters and are valid,\n",
    "  \"lower_colon\", for otherwise valid tags with a colon in their names,\n",
    "  \"problemchars\", for tags with problematic characters, and\n",
    "  \"other\", for other tags that do not fall into the other three categories.\n",
    "See the 'process_map' and 'test' functions for examples of the expected format."
   ]
  },
  {
   "cell_type": "code",
   "execution_count": null,
   "metadata": {
    "collapsed": true
   },
   "outputs": [],
   "source": [
    "#osm_file = open('chicago_illinois.osm', 'rb')\n",
    "#osm_example = open('example.osm')\n",
    "osm_example = open('portland_oregon_50_sample.osm')"
   ]
  },
  {
   "cell_type": "code",
   "execution_count": null,
   "metadata": {
    "collapsed": true
   },
   "outputs": [],
   "source": [
    "import xml.etree.cElementTree as ET\n",
    "import pprint\n",
    "import re"
   ]
  },
  {
   "cell_type": "code",
   "execution_count": null,
   "metadata": {
    "collapsed": true
   },
   "outputs": [],
   "source": [
    "lower = re.compile(r'^([a-z]|_)*$')\n",
    "lower_colon = re.compile(r'^([a-z]|_)*:([a-z]|_)*$')\n",
    "problemchars = re.compile(r'[=\\+/&<>;\\'\"\\?%#$@\\,\\. \\t\\r\\n]')"
   ]
  },
  {
   "cell_type": "code",
   "execution_count": null,
   "metadata": {
    "collapsed": true
   },
   "outputs": [],
   "source": [
    "def key_type(element, keys):\n",
    "    if element.tag == \"tag\":\n",
    "\n",
    "        x = lower.search(element.attrib['k'])\n",
    "        y = lower_colon.search(element.attrib['k'])\n",
    "        z = problemchars.search(element.attrib['k'])\n",
    "\n",
    "        if x:\n",
    "            keys['lower'] += 1\n",
    "        elif y:\n",
    "            keys['lower_colon'] += 1\n",
    "        elif z:\n",
    "            keys['problemchars'] += 1\n",
    "        else:\n",
    "            keys['other'] += 1\n",
    "        \n",
    "    return keys"
   ]
  },
  {
   "cell_type": "code",
   "execution_count": null,
   "metadata": {
    "collapsed": true
   },
   "outputs": [],
   "source": [
    "def process_map(filename):\n",
    "    keys = {\"lower\": 0, \"lower_colon\": 0, \"problemchars\": 0, \"other\": 0}\n",
    "    for _, element in ET.iterparse(filename):\n",
    "        keys = key_type(element, keys)\n",
    "    \n",
    "    filename.close()\n",
    "    return keys"
   ]
  },
  {
   "cell_type": "code",
   "execution_count": null,
   "metadata": {
    "collapsed": true
   },
   "outputs": [],
   "source": [
    "process_map(osm_example)"
   ]
  },
  {
   "cell_type": "markdown",
   "metadata": {},
   "source": [
    "### Test"
   ]
  },
  {
   "cell_type": "code",
   "execution_count": null,
   "metadata": {
    "collapsed": true
   },
   "outputs": [],
   "source": [
    "def test(filename):\n",
    "    # You can use another testfile 'map.osm' to look at your solution\n",
    "    # Note that the assertion below will be incorrect then.\n",
    "    # Note as well that the test function here is only used in the Test Run;\n",
    "    # when you submit, your code will be checked against a different dataset.\n",
    "    keys = process_map(filename)\n",
    "    pprint.pprint(keys)\n",
    "    assert keys == {'lower': 5, 'lower_colon': 0, 'other': 1, 'problemchars': 1}"
   ]
  },
  {
   "cell_type": "code",
   "execution_count": null,
   "metadata": {
    "collapsed": true
   },
   "outputs": [],
   "source": [
    "test(osm_example)"
   ]
  },
  {
   "cell_type": "markdown",
   "metadata": {},
   "source": [
    "[Back to top](#Top of document)\n",
    "<a id='quiz_exploring_users'></a>"
   ]
  },
  {
   "cell_type": "markdown",
   "metadata": {},
   "source": [
    "## 7. Quiz: Exploring Users\n",
    "\n",
    "Your task is to explore the data a bit more.\n",
    "The first task is a fun one - find out how many unique users\n",
    "have contributed to the map in this particular area!\n",
    "\n",
    "The function process_map should return a set of unique user IDs (\"uid\")"
   ]
  },
  {
   "cell_type": "code",
   "execution_count": null,
   "metadata": {
    "collapsed": true
   },
   "outputs": [],
   "source": [
    "#osm_file = open('chicago_illinois.osm', 'rb')\n",
    "#osm_example = 'example.osm'\n",
    "osm_example = 'portland_oregon_50_sample.osm'"
   ]
  },
  {
   "cell_type": "code",
   "execution_count": null,
   "metadata": {
    "collapsed": true
   },
   "outputs": [],
   "source": [
    "import xml.etree.cElementTree as ET\n",
    "import pprint\n",
    "import re"
   ]
  },
  {
   "cell_type": "code",
   "execution_count": null,
   "metadata": {
    "collapsed": true
   },
   "outputs": [],
   "source": [
    "def get_user(element, users):\n",
    "\n",
    "    if 'uid' in element.attrib:\n",
    "        users.add(element.attrib['uid'])    \n",
    "    \n",
    "    return users"
   ]
  },
  {
   "cell_type": "code",
   "execution_count": null,
   "metadata": {
    "collapsed": true
   },
   "outputs": [],
   "source": [
    "def process_map(filename):\n",
    "    filename = open(filename)\n",
    "    users = set()\n",
    "    for _, element in ET.iterparse(filename):\n",
    "        users = get_user(element, users)\n",
    "        \n",
    "    filename.close()\n",
    "    return users"
   ]
  },
  {
   "cell_type": "code",
   "execution_count": null,
   "metadata": {
    "collapsed": true
   },
   "outputs": [],
   "source": [
    "unique_users = process_map(osm_example)\n",
    "print(f'Unique Users: {len(unique_users)}')\n",
    "pprint.pprint(unique_users)"
   ]
  },
  {
   "cell_type": "markdown",
   "metadata": {},
   "source": [
    "### Test"
   ]
  },
  {
   "cell_type": "code",
   "execution_count": null,
   "metadata": {
    "collapsed": true
   },
   "outputs": [],
   "source": [
    "def test(filename):\n",
    "\n",
    "    users = process_map(filename)\n",
    "    pprint.pprint(users)\n",
    "    assert len(users) == 6\n",
    "    \n",
    "test(osm_example)"
   ]
  },
  {
   "cell_type": "markdown",
   "metadata": {},
   "source": [
    "[Back to top](#Top of document)\n",
    "<a id='quiz_improving_street_names'></a>"
   ]
  },
  {
   "cell_type": "markdown",
   "metadata": {},
   "source": [
    "## 10. Quiz: Improving Street Names\n",
    "\n",
    "Your task in this exercise has two steps:\n",
    "\n",
    "- audit the OSMFILE and change the variable 'mapping' to reflect the changes needed to fix \n",
    "    the unexpected street types to the appropriate ones in the expected list.\n",
    "    You have to add mappings only for the actual problems you find in this OSMFILE,\n",
    "    not a generalized solution, since that may depend on the particular area you are auditing.\n",
    "- write the update_name function, to actually fix the street name.\n",
    "    The function takes a string with street name as an argument and should return the fixed name\n",
    "    We have provided a simple test so that you see what exactly is expected"
   ]
  },
  {
   "cell_type": "code",
   "execution_count": 4,
   "metadata": {
    "collapsed": true
   },
   "outputs": [],
   "source": [
    "import xml.etree.cElementTree as ET\n",
    "from collections import defaultdict\n",
    "import re\n",
    "import pprint"
   ]
  },
  {
   "cell_type": "code",
   "execution_count": null,
   "metadata": {
    "collapsed": true
   },
   "outputs": [],
   "source": [
    "#osm_file = 'chicago_illinois.osm'\n",
    "#osm_example = 'example_10.osm'\n",
    "osm_example = 'portland_oregon_50_sample.osm'"
   ]
  },
  {
   "cell_type": "code",
   "execution_count": 5,
   "metadata": {
    "collapsed": true
   },
   "outputs": [],
   "source": [
    "street_type_re = re.compile(r'\\b\\S+\\.?$', re.IGNORECASE)\n",
    "\n",
    "expected = ['Street', 'Avenue', 'Boulevard', 'Drive', 'Court', 'Place', 'Square', 'Lane', 'Road',\n",
    "            'Parkway', 'Commons', 'Highway', 'Loop', 'Terrace', 'Trail', 'Way', 'North', 'South',\n",
    "            'West', 'East', 'Circle', 'Broadway', 'Path', 'View']"
   ]
  },
  {
   "cell_type": "code",
   "execution_count": null,
   "metadata": {},
   "outputs": [],
   "source": [
    "print(unexpected_street_names)"
   ]
  },
  {
   "cell_type": "code",
   "execution_count": 16,
   "metadata": {
    "collapsed": true
   },
   "outputs": [],
   "source": [
    "# UPDATE THIS VARIABLE\n",
    "mapping = {\"St\": \"Street\", \"St.\": \"Street\", \"street\": \"Street\", \"st.\": \"Street\",\n",
    "           \"Ave\": \"Avenue\", \"Ave.\": \"Avenue\", \"AVE\": \"Avenue\",\n",
    "           \"Rd.\": \"Road\", \"Rd\": \"Road\", \"Rode\": \"Road\",\n",
    "           \"Dr\": \"Drive\", \"Dr.\": \"Drive\", \"Srive\": \"Drive\",\n",
    "           \"Blvd\": \"Boulevard\", \"Ln\": \"Lane\",\n",
    "           \"TRL\": \"Trail\", \"Hwy\": \"Highway\",\n",
    "           \"Pky\": \"Parkway\", \"Pkwy\": \"Parkway\",\n",
    "           \"GLN\": \"Glen\", \"Cir\": \"Circle\", \"Ct.\": \"Court\",\n",
    "           \"NW\": \"Northwest\", \"NE\": \"Northeast\", \"SE\": \"Southeast\", \"SW\": \"Southwest\",\n",
    "           \"N\": \"North\", \"N.\": \"North\"}"
   ]
  },
  {
   "cell_type": "code",
   "execution_count": 8,
   "metadata": {
    "collapsed": true
   },
   "outputs": [],
   "source": [
    "def audit_street_type(street_types, street_name):\n",
    "    m = street_type_re.search(street_name)\n",
    "    if m:\n",
    "        street_type = m.group()\n",
    "        if street_type not in expected:\n",
    "            street_types[street_type].add(street_name)"
   ]
  },
  {
   "cell_type": "code",
   "execution_count": 9,
   "metadata": {
    "collapsed": true
   },
   "outputs": [],
   "source": [
    "def is_street_name(elem):\n",
    "    return (elem.attrib['k'] == \"addr:street\")"
   ]
  },
  {
   "cell_type": "code",
   "execution_count": 10,
   "metadata": {
    "collapsed": true
   },
   "outputs": [],
   "source": [
    "def audit(osmfile):\n",
    "    osm_file = open(osmfile, \"rb\")\n",
    "    street_types = defaultdict(set)\n",
    "    for event, elem in ET.iterparse(osm_file, events=(\"start\",)):\n",
    "\n",
    "        if elem.tag == \"node\" or elem.tag == \"way\":\n",
    "            for tag in elem.iter(\"tag\"):\n",
    "                if is_street_name(tag):\n",
    "                    audit_street_type(street_types, tag.attrib['v'])\n",
    "    osm_file.close()\n",
    "    return street_types"
   ]
  },
  {
   "cell_type": "markdown",
   "metadata": {},
   "source": [
    "### Used for Testing"
   ]
  },
  {
   "cell_type": "code",
   "execution_count": null,
   "metadata": {
    "collapsed": true
   },
   "outputs": [],
   "source": [
    "audit(osm_example)"
   ]
  },
  {
   "cell_type": "code",
   "execution_count": null,
   "metadata": {
    "collapsed": true
   },
   "outputs": [],
   "source": [
    "test_street_types = defaultdict(set,\n",
    "            {'Ave': {'N. Lincoln Ave', 'North Lincoln Ave'},\n",
    "             'Rd.': {'Baldwin Rd.'},\n",
    "             'St.': {'West Lexington St.'}})"
   ]
  },
  {
   "cell_type": "code",
   "execution_count": null,
   "metadata": {
    "collapsed": true
   },
   "outputs": [],
   "source": [
    "for st_type, ways in test_street_types.items():\n",
    "    for name in ways:\n",
    "        print(name)\n",
    "        x = name.split()\n",
    "        for y in x:\n",
    "            if y in mapping:\n",
    "                name = name.replace(y, mapping[y])\n",
    "        print(name)"
   ]
  },
  {
   "cell_type": "code",
   "execution_count": null,
   "metadata": {
    "collapsed": true
   },
   "outputs": [],
   "source": [
    "for st_type, ways in test_street_types.items():\n",
    "    for name in ways:\n",
    "        abv_found = list(filter(lambda street: street in name, mapping.keys()))\n",
    "    for street in abv_found:\n",
    "        name = name.replace(street, mapping[street])\n",
    "    print(name)\n",
    "    \n",
    "\"\"\"Doesn't work because the '.' is still after Street\"\"\""
   ]
  },
  {
   "cell_type": "markdown",
   "metadata": {},
   "source": [
    "### Required Function"
   ]
  },
  {
   "cell_type": "code",
   "execution_count": 13,
   "metadata": {
    "collapsed": true
   },
   "outputs": [],
   "source": [
    "def update_name(name, mapping):\n",
    "\n",
    "    x = name.split()\n",
    "    for y in x:\n",
    "        if y in mapping:\n",
    "            name = name.replace(y, mapping[y])\n",
    "\n",
    "    return name"
   ]
  },
  {
   "cell_type": "markdown",
   "metadata": {},
   "source": [
    "### Test"
   ]
  },
  {
   "cell_type": "code",
   "execution_count": 14,
   "metadata": {
    "collapsed": true
   },
   "outputs": [],
   "source": [
    "def test(filename):\n",
    "    st_types = audit(filename)\n",
    "    #assert len(st_types) == 3\n",
    "    pprint.pprint(dict(st_types))\n",
    "\n",
    "    for st_type, ways in st_types.items():\n",
    "        for name in ways:\n",
    "            better_name = update_name(name, mapping)\n",
    "            print(name, \"=>\", better_name)\n",
    "            \n",
    "            '''\n",
    "            if name == \"West Lexington St.\":\n",
    "                assert better_name == \"West Lexington Street\"\n",
    "            if name == \"Baldwin Rd.\":\n",
    "                assert better_name == \"Baldwin Road\"\n",
    "            '''"
   ]
  },
  {
   "cell_type": "code",
   "execution_count": 81,
   "metadata": {},
   "outputs": [
    {
     "name": "stdout",
     "output_type": "stream",
     "text": [
      "{'101': {'Northwest Hoyt Street #101'},\n",
      " '102': {'Southwest Macadam Avenue #102'},\n",
      " '110': {'Southeast Grace Avenue #110'},\n",
      " '150': {'Southwest 5th Street #150'},\n",
      " '155th': {'Southwest 155th'},\n",
      " '156th': {'Southwest 156th'},\n",
      " '157th': {'Southwest 157th'},\n",
      " '158th': {'Southwest 158th'},\n",
      " '160th': {'Southwest 160th'},\n",
      " '163rd': {'Southwest 163rd'},\n",
      " '165th': {'Southwest 165th'},\n",
      " '170': {'South Highway 170'},\n",
      " '211': {'Highway 211', 'South Highway 211', 'Southeast Highway 211'},\n",
      " '212': {' Southeast Hwy 212', 'SE Highway 212', 'Southeast Highway 212'},\n",
      " '213': {'South Highway 213', 'Highway 213'},\n",
      " '224': {'Northwest Highway 224',\n",
      "         'South Highway 224',\n",
      "         'Southeast Highway 224',\n",
      "         'Southwest Highway 224'},\n",
      " '26': {'Highway 26', 'Southeast Highway 26'},\n",
      " '4616': {'4616'},\n",
      " '4637': {'4637'},\n",
      " '47': {'Northwest Highway 47',\n",
      "        'Southwest Highway 47',\n",
      "        'Southwest Old Highway 47'},\n",
      " '74th': {'SW 74th'},\n",
      " '91st': {'SW 91st'},\n",
      " '97055': {'44575 Southeast Kleinsmith Rd.\\nSandy, OR 97055'},\n",
      " '97266': {'8202 SE Flavel St, Portland, OR 97266'},\n",
      " '99': {'Northeast Highway 99'},\n",
      " '99E': {'South Highway 99E', 'Highway 99E'},\n",
      " '99W': {'North Highway 99W',\n",
      "         'Northeast Highway 99W',\n",
      "         'Northeast State Highway 99W',\n",
      "         'Southwest Old Highway 99W'},\n",
      " '99e': {'South Highway 99e'},\n",
      " 'AVE': {'NE 25th AVE'},\n",
      " 'Alley': {'North Missouri Ave-Michigan Ave Alley', 'Knapps Alley'},\n",
      " 'Ankeny': {'SE Ankeny'},\n",
      " 'Ave': {'12120 SW Imperial Ave',\n",
      "         '1813 NE 2nd Ave',\n",
      "         '33rd Ave',\n",
      "         '4th Ave',\n",
      "         'Mollala Ave',\n",
      "         'NE 10th Ave',\n",
      "         'NE 181st Ave',\n",
      "         'NE 22nd Ave',\n",
      "         'NE 33rd Ave',\n",
      "         'NE 37th Ave',\n",
      "         'NE 3rd Ave',\n",
      "         'NE 94th Ave',\n",
      "         'NE Cumulus Ave',\n",
      "         'NW 12th Ave',\n",
      "         'NW 143rd Ave',\n",
      "         'NW 334th Ave',\n",
      "         'NW Birdsdale Ave',\n",
      "         'North 20th Ave',\n",
      "         'North 26th Ave',\n",
      "         'North Interstate Ave',\n",
      "         'Northwest 185th Ave',\n",
      "         'Pacific Ave',\n",
      "         'SE 104th Ave',\n",
      "         'SE 12th Ave',\n",
      "         'SE 162nd Ave',\n",
      "         'SE 16th Ave',\n",
      "         'SE 60th Ave',\n",
      "         'SE 96th Ave',\n",
      "         'SE Stratus Ave',\n",
      "         'SW 11th Ave',\n",
      "         'SW 125th Ave',\n",
      "         'SW 78th Ave',\n",
      "         'SW Martinazzi Ave',\n",
      "         'Southeast 172nd Ave'},\n",
      " 'Ave.': {'N. Charleston Ave.', 'SE 21st Ave.', 'NE 12th Ave.', 'NW 21st Ave.'},\n",
      " 'Blvd.': {'21200 Northwest Rock Creek Blvd.'},\n",
      " 'Botticelli': {'Botticelli'},\n",
      " 'Brighton': {'Southwest Brighton'},\n",
      " 'Burnside': {'West Burnside'},\n",
      " 'Byway': {'Southwest Kings Byway'},\n",
      " 'C113': {'Southeast Orient Drive #C113'},\n",
      " 'Cervantes': {'Cervantes'},\n",
      " 'Chantilly': {'Southwest Chantilly'},\n",
      " 'Churchill': {'Southwest Churchill'},\n",
      " 'Cir': {'SE Enterprise Cir'},\n",
      " 'Circus': {'Northwest Luray Circus',\n",
      "            'Southwest Aventine Circus',\n",
      "            'Southwest Esquiline Circus',\n",
      "            'Southwest Fairview Circus'},\n",
      " 'Crescent': {'Northwest Ramsey Crescent'},\n",
      " 'Crest': {'Southwest Humphrey Park Crest', 'Collins Crest', 'Eagle Crest'},\n",
      " 'Ct.': {'SW 125th Ct.'},\n",
      " 'Curve': {'Horseshoe Curve'},\n",
      " 'Cynthia': {'Southwest Cynthia'},\n",
      " 'D': {'Northeast 82nd Avenue #D'},\n",
      " 'Dartmouth': {'E Dartmouth'},\n",
      " 'Douglas': {'Douglas'},\n",
      " 'Downs': {'Churchill Downs'},\n",
      " 'Dr': {'NE Estate Dr',\n",
      "        'NE Parkway Dr',\n",
      "        'North Marine Dr',\n",
      "        'SE Tower Dr',\n",
      "        'SW Conestoga Dr',\n",
      "        'SW Cormorant Dr',\n",
      "        'SW Downing Dr'},\n",
      " 'Dr.': {'Upper Dr.'},\n",
      " 'End': {'Southeast Roads End', 'Northwest Roads End'},\n",
      " 'Falstaff': {'Falstaff'},\n",
      " 'Fieldcrest': {'Southeast Fieldcrest'},\n",
      " 'GLN': {'Southwest Malcolm GLN'},\n",
      " 'Greco': {'El Greco'},\n",
      " 'Greenway': {'Southwest Greenway'},\n",
      " 'Grotto': {'The Grotto'},\n",
      " 'Hassalo': {'NE Hassalo'},\n",
      " 'Heights': {'Southeast Belmore Heights'},\n",
      " 'Hotspur': {'Hotspur'},\n",
      " 'Hwy': {'Columbia River Hwy',\n",
      "         'Historic Columbia River Hwy',\n",
      "         'NW Sunset Hwy',\n",
      "         'SW Hillsboro Hwy',\n",
      "         'SW Tualatin Valley Hwy'},\n",
      " 'Jamaica': {'Southwest Jamaica'},\n",
      " 'Landing': {'Old River Landing', 'Northeast Boones Ferry Landing'},\n",
      " 'Ln': {'S Rutherford Ln'},\n",
      " 'Miami': {'Southwest Miami'},\n",
      " 'Mississippi': {'North Mississippi'},\n",
      " 'Northbound': {'I5 Freeway Northbound'},\n",
      " 'Northeast': {'Arney Road Northeast',\n",
      "               'Donald Road Northeast',\n",
      "               'Parr Road Northeast'},\n",
      " 'OR)': {'US 26 (OR)'},\n",
      " 'Pacific': {'Pacific'},\n",
      " 'Pericles': {'Pericles'},\n",
      " 'Pimlico': {'Pimlico'},\n",
      " 'Pkwy': {'NW Skycrest Pkwy'},\n",
      " 'Pky': {'NW Skycrest Pky'},\n",
      " 'Plaza': {'SW Chinook Plaza'},\n",
      " 'Point': {'Southwest East Lake Point', 'Southwest Cypress Point'},\n",
      " 'Pointe': {'Cabana Pointe'},\n",
      " 'Polonius': {'Polonius'},\n",
      " 'Preakness': {'Southwest Preakness'},\n",
      " 'Rd': {'NW Cornell Rd',\n",
      "        'NW Laidlaw Rd',\n",
      "        'NW Timber Rd',\n",
      "        'Old Portland Rd',\n",
      "        'S Carus Rd',\n",
      "        'SE Foster Rd',\n",
      "        'SE Sunnyside Rd',\n",
      "        'SW Bany Rd',\n",
      "        'SW Bridgeport Rd',\n",
      "        'SW Brockman Rd',\n",
      "        'SW Canyon Rd',\n",
      "        'SW Farmington Rd',\n",
      "        'SW Nicol Rd',\n",
      "        'SW Rock Creek Rd',\n",
      "        'SW Scholls Ferry Rd'},\n",
      " 'Rd.': {'SW Tonquin Rd.'},\n",
      " 'Rode': {'Northeast Rode'},\n",
      " 'Run': {'Fox Run',\n",
      "         'Pheasant Run',\n",
      "         'Southwest Gordons Run',\n",
      "         'Southwest Wheatland Run'},\n",
      " 'Russell': {'670 North Russell'},\n",
      " 'Sandy': {'NE Sandy'},\n",
      " 'Skidmore': {'N Skidmore'},\n",
      " 'Southbound': {'I5 Freeway Southbound'},\n",
      " 'Spinosa': {'Spinosa'},\n",
      " 'Srive': {'North Marine Srive'},\n",
      " 'St': {'B St',\n",
      "        'Broadway St',\n",
      "        'N Front St',\n",
      "        'N Graham St',\n",
      "        'NE Broadway St',\n",
      "        'NE Broadways St',\n",
      "        'NE Evans St',\n",
      "        'NE First St',\n",
      "        'NE Lenox St',\n",
      "        'NE Lincoln St',\n",
      "        'NE Multnomah St',\n",
      "        'NE Shaver St',\n",
      "        'NW Darnielle St',\n",
      "        'NW Pettygrove St',\n",
      "        'North Prescott St',\n",
      "        'Northeast Lincoln St',\n",
      "        'Northwest Birch St',\n",
      "        'SE Ankeny St',\n",
      "        'SE DIvision St',\n",
      "        'SE Division St',\n",
      "        'SE Oak St',\n",
      "        'SE Stark St',\n",
      "        'SW 5th St',\n",
      "        'SW Adams St',\n",
      "        'SW Comust St',\n",
      "        'SW Inglewood St',\n",
      "        'SW Jefferson St',\n",
      "        'Southeast Lois St',\n",
      "        'Z St'},\n",
      " 'St.': {'N Lombard St.',\n",
      "         'N. Lombard St.',\n",
      "         'NE Everett St.',\n",
      "         'NE Glisan St.',\n",
      "         'NW 18th St.',\n",
      "         'NW Raleigh St.',\n",
      "         'North Lombard St.'},\n",
      " 'Strand': {'The Strand'},\n",
      " 'Summac': {'Southwest Summac'},\n",
      " 'Summit': {'Nansen Summit', 'Oswego Summit'},\n",
      " 'TRL': {'Southeast Hittay TRL'},\n",
      " 'Taylor': {'SW Taylor'},\n",
      " 'Terre': {'Southeast La Bonne Terre'},\n",
      " 'Touchstone': {'Touchstone'},\n",
      " 'Vista': {'Northeast Dutch Vista'},\n",
      " 'Walk': {\"Nature'S Walk\"},\n",
      " 'Wheatherstone': {'Wheatherstone'},\n",
      " 'Wheatland': {'Southwest Wheatland'},\n",
      " 'Willamina': {'Willamina'},\n",
      " 'Woods': {'Trillium Woods', 'Summer Woods'},\n",
      " 'st.': {'N. Lombard st.', 'North Harborgate st.'},\n",
      " 'street': {'Main street'},\n",
      " 'unknown': {'unknown'}}\n",
      "SW Tonquin Rd. => SW Tonquin Road\n",
      "West Burnside => West Burnside\n",
      "SE Enterprise Cir => SE Enterprise Cir\n",
      "NW Birdsdale Ave => NW Birdsdale Avenue\n",
      "SW 125th Ave => SW 125th Avenue\n",
      "Northwest 185th Ave => Northwest 185th Avenue\n",
      "NE 37th Ave => NE 37th Avenue\n",
      "North Interstate Ave => North Interstate Avenue\n",
      "Mollala Ave => Mollala Avenue\n",
      "SE Stratus Ave => SE Stratus Avenue\n",
      "NE 22nd Ave => NE 22nd Avenue\n",
      "33rd Ave => 33rd Avenue\n",
      "NW 143rd Ave => NW 143rd Avenue\n",
      "NE Cumulus Ave => NE Cumulus Avenue\n",
      "SW 11th Ave => SW 11th Avenue\n",
      "SE 162nd Ave => SE 162nd Avenue\n",
      "NW 12th Ave => NW 12th Avenue\n",
      "SW 78th Ave => SW 78th Avenue\n",
      "NE 94th Ave => NE 94th Avenue\n",
      "Southeast 172nd Ave => Southeast 172nd Avenue\n",
      "NE 3rd Ave => NE 3rd Avenue\n",
      "NE 181st Ave => NE 181st Avenue\n",
      "1813 NE 2nd Ave => 1813 NE 2nd Avenue\n",
      "SE 60th Ave => SE 60th Avenue\n",
      "North 20th Ave => North 20th Avenue\n",
      "SW Martinazzi Ave => SW Martinazzi Avenue\n",
      "SE 96th Ave => SE 96th Avenue\n",
      "NW 334th Ave => NW 334th Avenue\n",
      "12120 SW Imperial Ave => 12120 SW Imperial Avenue\n",
      "North 26th Ave => North 26th Avenue\n",
      "NE 33rd Ave => NE 33rd Avenue\n",
      "SE 104th Ave => SE 104th Avenue\n",
      "SE 12th Ave => SE 12th Avenue\n",
      "Pacific Ave => Pacific Avenue\n",
      "4th Ave => 4th Avenue\n",
      "NE 10th Ave => NE 10th Avenue\n",
      "SE 16th Ave => SE 16th Avenue\n",
      "N. Charleston Ave. => N. Charleston Avenue\n",
      "SE 21st Ave. => SE 21st Avenue\n",
      "NE 12th Ave. => NE 12th Avenue\n",
      "NW 21st Ave. => NW 21st Avenue\n",
      "E Dartmouth => E Dartmouth\n",
      "4637 => 4637\n",
      "NE Glisan St. => NE Glisan Street\n",
      "NW 18th St. => NW 18th Street\n",
      "NW Raleigh St. => NW Raleigh Street\n",
      "North Lombard St. => North Lombard Street\n",
      "N. Lombard St. => N. Lombard Street\n",
      "N Lombard St. => N Lombard Street\n",
      "NE Everett St. => NE Everett Street\n",
      "Northeast Highway 99W => Northeast Highway 99W\n",
      "Northeast State Highway 99W => Northeast State Highway 99W\n",
      "North Highway 99W => North Highway 99W\n",
      "Southwest Old Highway 99W => Southwest Old Highway 99W\n",
      "Highway 26 => Highway 26\n",
      "Southeast Highway 26 => Southeast Highway 26\n",
      "SW Jefferson St => SW Jefferson Street\n",
      "NE Lincoln St => NE Lincoln Street\n",
      "N Front St => N Front Street\n",
      "NE Shaver St => NE Shaver Street\n",
      "NE First St => NE First Street\n",
      "NW Pettygrove St => NW Pettygrove Street\n",
      "Northwest Birch St => Northwest Birch Street\n",
      "SW Comust St => SW Comust Street\n",
      "SE Oak St => SE Oak Street\n",
      "SE Ankeny St => SE Ankeny Street\n",
      "B St => B Street\n",
      "N Graham St => N Graham Street\n",
      "NE Multnomah St => NE Multnomah Street\n",
      "Southeast Lois St => Southeast Lois Street\n",
      "NE Lenox St => NE Lenox Street\n",
      "NW Darnielle St => NW Darnielle Street\n",
      "NE Broadway St => NE Broadway Street\n",
      "Z St => Z Street\n",
      "North Prescott St => North Prescott Street\n",
      "NE Broadways St => NE Broadways Street\n",
      "SW Adams St => SW Adams Street\n",
      "Broadway St => Broadway Street\n",
      "SW Inglewood St => SW Inglewood Street\n",
      "SW 5th St => SW 5th Street\n",
      "SE DIvision St => SE DIvision Street\n",
      "NE Evans St => NE Evans Street\n",
      "Northeast Lincoln St => Northeast Lincoln Street\n",
      "SE Division St => SE Division Street\n",
      "SE Stark St => SE Streetark Street\n",
      "SW Taylor => SW Taylor\n",
      "SW 74th => SW 74th\n",
      "Parr Road Northeast => Parr Road Northeast\n",
      "Donald Road Northeast => Donald Road Northeast\n",
      "Arney Road Northeast => Arney Road Northeast\n",
      "Southwest Macadam Avenue #102 => Southwest Macadam Avenue #102\n",
      "The Strand => The Strand\n",
      "Northeast Highway 99 => Northeast Highway 99\n",
      "Northwest Highway 47 => Northwest Highway 47\n",
      "Southwest Highway 47 => Southwest Highway 47\n",
      "Southwest Old Highway 47 => Southwest Old Highway 47\n",
      "Southwest Highway 224 => Southwest Highway 224\n",
      "South Highway 224 => South Highway 224\n",
      "Southeast Highway 224 => Southeast Highway 224\n",
      "Northwest Highway 224 => Northwest Highway 224\n",
      "SW Tualatin Valley Hwy => SW Tualatin Valley Highway\n",
      "NW Sunset Hwy => NW Sunset Highway\n",
      "Columbia River Hwy => Columbia River Highway\n",
      "Historic Columbia River Hwy => Historic Columbia River Highway\n",
      "SW Hillsboro Hwy => SW Hillsboro Highway\n",
      "Northwest Hoyt Street #101 => Northwest Hoyt Street #101\n",
      "Southwest Greenway => Southwest Greenway\n",
      "SW Chinook Plaza => SW Chinook Plaza\n",
      "North Missouri Ave-Michigan Ave Alley => North Missouri Avenue-Michigan Avenue Alley\n",
      "Knapps Alley => Knapps Alley\n",
      "Southwest Fairview Circus => Southwest Fairview Circus\n",
      "Southwest Esquiline Circus => Southwest Esquiline Circus\n",
      "Southwest Aventine Circus => Southwest Aventine Circus\n",
      "Northwest Luray Circus => Northwest Luray Circus\n",
      "South Highway 213 => South Highway 213\n",
      "Highway 213 => Highway 213\n",
      "Cervantes => Cervantes\n",
      "Nansen Summit => Nansen Summit\n",
      "Oswego Summit => Oswego Summit\n",
      " Southeast Hwy 212 =>  Southeast Highway 212\n",
      "SE Highway 212 => SE Highway 212\n",
      "Southeast Highway 212 => Southeast Highway 212\n",
      "Highway 211 => Highway 211\n",
      "South Highway 211 => South Highway 211\n",
      "Southeast Highway 211 => Southeast Highway 211\n",
      "Southeast Orient Drive #C113 => Southeast Orient Drive #C113\n",
      "Northeast 82nd Avenue #D => Northeast 82nd Avenue #D\n",
      "SW Nicol Rd => SW Nicol Road\n",
      "SE Foster Rd => SE Foster Road\n",
      "S Carus Rd => S Carus Road\n",
      "SW Brockman Rd => SW Brockman Road\n",
      "SW Canyon Rd => SW Canyon Road\n",
      "SW Farmington Rd => SW Farmington Road\n",
      "SE Sunnyside Rd => SE Sunnyside Road\n",
      "SW Rock Creek Rd => SW Rock Creek Road\n",
      "Old Portland Rd => Old Portland Road\n",
      "SW Scholls Ferry Rd => SW Scholls Ferry Road\n",
      "SW Bany Rd => SW Bany Road\n",
      "SW Bridgeport Rd => SW Bridgeport Road\n",
      "NW Cornell Rd => NW Cornell Road\n",
      "NW Timber Rd => NW Timber Road\n",
      "NW Laidlaw Rd => NW Laidlaw Road\n",
      "NE Hassalo => NE Hassalo\n",
      "NE Estate Dr => NE Estate Drive\n",
      "North Marine Dr => North Marine Drive\n",
      "SW Conestoga Dr => SW Conestoga Drive\n",
      "NE Parkway Dr => NE Parkway Drive\n",
      "SE Tower Dr => SE Tower Drive\n",
      "SW Downing Dr => SW Downing Drive\n",
      "SW Cormorant Dr => SW Cormorant Drive\n",
      "44575 Southeast Kleinsmith Rd.\n",
      "Sandy, OR 97055 => 44575 Southeast Kleinsmith Road\n",
      "Sandy, OR 97055\n",
      "8202 SE Flavel St, Portland, OR 97266 => 8202 SE Flavel St, Portland, OR 97266\n",
      "Southeast Grace Avenue #110 => Southeast Grace Avenue #110\n",
      "Southwest 5th Street #150 => Southwest 5th Street #150\n",
      "SW 125th Ct. => SW 125th Ct.\n",
      "NE 25th AVE => NE 25th AVE\n",
      "670 North Russell => 670 North Russell\n",
      "21200 Northwest Rock Creek Blvd. => 21200 Northwest Rock Creek Blvd.\n",
      "SW 91st => SW 91st\n",
      "NW Skycrest Pky => NW Skycrest Parkway\n",
      "SE Ankeny => SE Ankeny\n",
      "N Skidmore => N Skidmore\n",
      "4616 => 4616\n",
      "Old River Landing => Old River Landing\n",
      "Northeast Boones Ferry Landing => Northeast Boones Ferry Landing\n",
      "Botticelli => Botticelli\n",
      "Touchstone => Touchstone\n",
      "South Highway 170 => South Highway 170\n",
      "NE Sandy => NE Sandy\n",
      "Main street => Main Street\n",
      "NW Skycrest Pkwy => NW Skycrest Parkway\n",
      "N. Lombard st. => N. Lombard Street\n",
      "North Harborgate st. => North Harborgate Street\n",
      "Willamina => Willamina\n",
      "Douglas => Douglas\n",
      "Nature'S Walk => Nature'S Walk\n",
      "Pacific => Pacific\n",
      "Southeast Roads End => Southeast Roads End\n",
      "Northwest Roads End => Northwest Roads End\n",
      "Southwest East Lake Point => Southwest East Lake Point\n",
      "Southwest Cypress Point => Southwest Cypress Point\n",
      "South Highway 99e => South Highway 99e\n",
      "Southeast La Bonne Terre => Southeast La Bonne Terre\n",
      "South Highway 99E => South Highway 99E\n",
      "Highway 99E => Highway 99E\n",
      "Northeast Dutch Vista => Northeast Dutch Vista\n",
      "Southwest Malcolm GLN => Southwest Malcolm Glen\n",
      "Southwest Wheatland => Southwest Wheatland\n",
      "Fox Run => Fox Run\n",
      "Pheasant Run => Pheasant Run\n",
      "Southwest Gordons Run => Southwest Gordons Run\n",
      "Southwest Wheatland Run => Southwest Wheatland Run\n",
      "Southwest Summac => Southwest Summac\n",
      "Southwest Cynthia => Southwest Cynthia\n",
      "Southwest 160th => Southwest 160th\n",
      "Southwest 163rd => Southwest 163rd\n",
      "North Mississippi => North Mississippi\n",
      "Southwest Humphrey Park Crest => Southwest Humphrey Park Crest\n",
      "Collins Crest => Collins Crest\n",
      "Eagle Crest => Eagle Crest\n",
      "Cabana Pointe => Cabana Pointe\n",
      "The Grotto => The Grotto\n",
      "Churchill Downs => Churchill Downs\n",
      "Polonius => Polonius\n",
      "Falstaff => Falstaff\n",
      "Pimlico => Pimlico\n",
      "Wheatherstone => Wheatherstone\n",
      "Trillium Woods => Trillium Woods\n",
      "Summer Woods => Summer Woods\n",
      "Hotspur => Hotspur\n",
      "El Greco => El Greco\n",
      "Horseshoe Curve => Horseshoe Curve\n",
      "Southwest Preakness => Southwest Preakness\n",
      "Southwest Jamaica => Southwest Jamaica\n",
      "Southwest Churchill => Southwest Churchill\n",
      "Southwest Chantilly => Southwest Chantilly\n",
      "Southwest Miami => Southwest Miami\n",
      "I5 Freeway Northbound => I5 Freeway Northbound\n",
      "I5 Freeway Southbound => I5 Freeway Southbound\n",
      "Upper Dr. => Upper Drive\n",
      "US 26 (OR) => US 26 (OR)\n",
      "Northwest Ramsey Crescent => Northwest Ramsey Crescent\n",
      "Spinosa => Spinosa\n",
      "Pericles => Pericles\n",
      "S Rutherford Ln => S Rutherford Lane\n",
      "Southwest Kings Byway => Southwest Kings Byway\n",
      "North Marine Srive => North Marine Drive\n",
      "Southeast Fieldcrest => Southeast Fieldcrest\n",
      "Southeast Belmore Heights => Southeast Belmore Heights\n",
      "Southeast Hittay TRL => Southeast Hittay Trail\n",
      "Southwest Brighton => Southwest Brighton\n",
      "unknown => unknown\n",
      "Southwest 158th => Southwest 158th\n",
      "Southwest 155th => Southwest 155th\n",
      "Southwest 156th => Southwest 156th\n",
      "Southwest 165th => Southwest 165th\n",
      "Southwest 157th => Southwest 157th\n",
      "Northeast Rode => Northeast Rode\n"
     ]
    }
   ],
   "source": [
    "test(osm_portland_full)"
   ]
  },
  {
   "cell_type": "code",
   "execution_count": 17,
   "metadata": {},
   "outputs": [
    {
     "name": "stdout",
     "output_type": "stream",
     "text": [
      "{'156th': {'Southwest 156th'},\n",
      " '211': {'Southeast Highway 211', 'South Highway 211'},\n",
      " '212': {'Southeast Highway 212'},\n",
      " '213': {'South Highway 213'},\n",
      " '224': {'Southeast Highway 224'},\n",
      " '26': {'Southeast Highway 26', 'Highway 26'},\n",
      " '47': {'Northwest Highway 47', 'Southwest Old Highway 47'},\n",
      " '99': {'Northeast Highway 99'},\n",
      " '99E': {'Highway 99E'},\n",
      " '99W': {'Northeast State Highway 99W'},\n",
      " 'Ave': {'NE 3rd Ave', 'NE 37th Ave'},\n",
      " 'Byway': {'Southwest Kings Byway'},\n",
      " 'Chantilly': {'Southwest Chantilly'},\n",
      " 'Circus': {'Southwest Aventine Circus'},\n",
      " 'Preakness': {'Southwest Preakness'},\n",
      " 'Run': {'Southwest Gordons Run'},\n",
      " 'St.': {'NW Raleigh St.'},\n",
      " 'TRL': {'Southeast Hittay TRL'},\n",
      " 'Touchstone': {'Touchstone'}}\n",
      "Northeast State Highway 99W => Northeast State Highway 99W\n",
      "Southwest Aventine Circus => Southwest Aventine Circus\n",
      "Southeast Highway 26 => Southeast Highway 26\n",
      "Highway 26 => Highway 26\n",
      "NE 3rd Ave => Northeast 3rd Avenue\n",
      "NE 37th Ave => Northeast 37th Avenue\n",
      "NW Raleigh St. => Northwest Raleigh Street\n",
      "Northwest Highway 47 => Northwest Highway 47\n",
      "Southwest Old Highway 47 => Southwest Old Highway 47\n",
      "South Highway 213 => South Highway 213\n",
      "Southeast Highway 224 => Southeast Highway 224\n",
      "Southeast Highway 211 => Southeast Highway 211\n",
      "South Highway 211 => South Highway 211\n",
      "Southwest Gordons Run => Southwest Gordons Run\n",
      "Touchstone => Touchstone\n",
      "Highway 99E => Highway 99E\n",
      "Southwest Preakness => Southwest Preakness\n",
      "Southwest Chantilly => Southwest Chantilly\n",
      "Northeast Highway 99 => Northeast Highway 99\n",
      "Southwest Kings Byway => Southwest Kings Byway\n",
      "Southeast Highway 212 => Southeast Highway 212\n",
      "Southeast Hittay TRL => Southeast Hittay Trail\n",
      "Southwest 156th => Southwest 156th\n"
     ]
    }
   ],
   "source": [
    "# uses portland_oregon_50.osm\n",
    "test(osm_portland)"
   ]
  },
  {
   "cell_type": "code",
   "execution_count": null,
   "metadata": {
    "collapsed": true
   },
   "outputs": [],
   "source": []
  }
 ],
 "metadata": {
  "kernelspec": {
   "display_name": "Python 3",
   "language": "python",
   "name": "python3"
  },
  "language_info": {
   "codemirror_mode": {
    "name": "ipython",
    "version": 3
   },
   "file_extension": ".py",
   "mimetype": "text/x-python",
   "name": "python",
   "nbconvert_exporter": "python",
   "pygments_lexer": "ipython3",
   "version": "3.6.1"
  }
 },
 "nbformat": 4,
 "nbformat_minor": 1
}
