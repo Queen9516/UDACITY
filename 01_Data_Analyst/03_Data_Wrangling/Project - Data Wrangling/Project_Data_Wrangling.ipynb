{
 "cells": [
  {
   "cell_type": "markdown",
   "metadata": {},
   "source": [
    "<a id='top_of_doc'></a>"
   ]
  },
  {
   "cell_type": "markdown",
   "metadata": {},
   "source": [
    "# <a href=\"http://wiki.openstreetmap.org/wiki/Main_Page\">OpenStreetMap</a> Data Case\n",
    "#### Completed By: Trenton J. McKinney\n",
    "#### Date: 2017/08/10\n",
    "***"
   ]
  },
  {
   "cell_type": "markdown",
   "metadata": {},
   "source": [
    "### Table of Contents\n",
    "***\n",
    "* <a href=\"#osm_map_area\">OSM Map Area</a>\n",
    "* <a href=\"#osm_file_issues\">Corrected OSM File Issues</a>\n",
    "* <a href=\"#file_db_overview\">File & Database Overview</a>\n",
    "* <a href=\"#db_exploration\">Database Exploration</a>\n",
    "* <a href=\"#int_notes\">Interesting Explorations</a>\n",
    "* <a href=\"#other_ideas\">Other Ideas About the Dataset</a>\n",
    "* <a href=\"#conclusion\">Conclusion</a>"
   ]
  },
  {
   "cell_type": "markdown",
   "metadata": {},
   "source": [
    "<a href=\"#top_of_doc\">Back to Top</a>\n",
    "<a id='osm_map_area'></a>"
   ]
  },
  {
   "cell_type": "markdown",
   "metadata": {
    "collapsed": true
   },
   "source": [
    "## OSM Map Area\n",
    "***\n",
    "Portland OR, United States (Portland Metro Area)\n",
    "\n",
    "* <a href=\"https://mapzen.com/data/metro-extracts/metro/portland_oregon/\">Portland at Mapzen</a>\n",
    "\n",
    "I live within and am interested in determining what type(s) of interesting information can be gleaned from the Portland Metropolitan OSM file.  The map below depicts the area encompassed by the OSM file (black dots) and each purple dot represents the unique zip codes discovered within the ways_tags and nodes_tags.\n",
    "\n",
    "#### Black dots outline the area of the OSM data & Purple dots are postcodes from ways_tags and nodes_tags\n",
    "\n",
    "<a href=\"https://github.com/trenton3983/UDACITY/blob/master/01_Data_Analyst/03_Data_Wrangling/Project%20-%20Data%20Wrangling/portland_osm_map.ipynb\">Notebook to generate map</a>\n",
    "\n",
    "<img style=\"float: left;\" src=\"https://raw.githubusercontent.com/trenton3983/UDACITY/master/01_Data_Analyst/03_Data_Wrangling/Images/project_zips_on_map.PNG\">"
   ]
  },
  {
   "cell_type": "markdown",
   "metadata": {},
   "source": [
    "<a href=\"#top_of_doc\">Back To Top</a>\n",
    "<a id='osm_file_issues'></a>"
   ]
  },
  {
   "cell_type": "markdown",
   "metadata": {},
   "source": [
    "## Corrected OSM File Issues\n",
    "***\n",
    "\n",
    "* <a href=\"#comp_city_name\">Before / After Comparison of Corrected City Names</a>\n",
    "* <a href=\"#comp_zips\">Before / After Comparison of Corrected Zip Codes</a>\n",
    "* <a href=\"#st_names\">Before / After Comparison of Street Names</a>\n",
    "* <a href=\"#add_clean\">Additional Cleaning</a>"
   ]
  },
  {
   "cell_type": "markdown",
   "metadata": {},
   "source": [
    "<a id='comp_city_name'></a>"
   ]
  },
  {
   "cell_type": "markdown",
   "metadata": {},
   "source": [
    "### Before / After Comparison of Corrected City Names\n",
    "\n",
    "* <a href=\"https://github.com/trenton3983/UDACITY/blob/master/01_Data_Analyst/03_Data_Wrangling/Project%20-%20Data%20Wrangling/project_fix_city_name.py\">project_fix_city_name.py</a>\n",
    "* The table shows the types of errors associated with the city names and the result of correction.\n",
    "\n",
    "```python\n",
    "def fix_city_name(name, mapping=MAPPING):\n",
    "    \"\"\"Splits tag.attrib['v'] and checks each string against MAPPING.\n",
    "    If there's a value match, the string is changed to the new value.\"\"\"\n",
    "\n",
    "    if name in mapping:\n",
    "        name = name.replace(name, mapping[name])\n",
    "    return name\n",
    "```\n",
    "\n",
    "<img style=\"float: left;\" src=\"https://raw.githubusercontent.com/trenton3983/UDACITY/master/01_Data_Analyst/03_Data_Wrangling/Images/project_fixed_city_names.PNG\">"
   ]
  },
  {
   "cell_type": "markdown",
   "metadata": {},
   "source": [
    "<a href=\"#osm_file_issues\">Back to Corrected OSM File Issues</a>\n",
    "<a id='comp_zips'></a>"
   ]
  },
  {
   "cell_type": "markdown",
   "metadata": {},
   "source": [
    "### Before / After Comparison of Corrected Zip Codes\n",
    "\n",
    "* <a href=\"https://github.com/trenton3983/UDACITY/blob/master/01_Data_Analyst/03_Data_Wrangling/Project%20-%20Data%20Wrangling/project_fix_zip_code.py\">project_fix_zip_code.py</a>\n",
    "* The table shows the types of errors associated with the zip codes and the result of correction.\n",
    "\n",
    "```python\n",
    "def fix_zip_codes(zip_codes):\n",
    "    \"\"\"Expects a string.  Will search the string for a consecutive 5 digits and\n",
    "    return the string as a zip code or leave blank if there's no match.\"\"\"\n",
    "\n",
    "    zip_code = re.compile('\\d{5}')\n",
    "    zip_code = zip_code.findall(zip_codes)\n",
    "\n",
    "    if zip_code:\n",
    "        return zip_code[0]\n",
    "    else:\n",
    "        return ''\n",
    "```\n",
    "\n",
    "<img style=\"float: left;\" src=\"https://raw.githubusercontent.com/trenton3983/UDACITY/master/01_Data_Analyst/03_Data_Wrangling/Images/project_fixed_zips.PNG\">"
   ]
  },
  {
   "cell_type": "markdown",
   "metadata": {},
   "source": [
    "<a href=\"#osm_file_issues\">Back to Corrected OSM File Issues</a>\n",
    "<a id='st_names'></a>"
   ]
  },
  {
   "cell_type": "markdown",
   "metadata": {},
   "source": [
    "### Before / After Comparison of Street Names\n",
    "\n",
    "* <a href=\"https://github.com/trenton3983/UDACITY/blob/master/01_Data_Analyst/03_Data_Wrangling/Project%20-%20Data%20Wrangling/audit_street_names.py\">audit_street_names.py</a>\n",
    "* <a href=\"https://github.com/trenton3983/UDACITY/blob/master/01_Data_Analyst/03_Data_Wrangling/Project%20-%20Data%20Wrangling/project_fix_street_name.py\">project_fix_street_name.py</a>\n",
    "* The table shows a non-exhaustive sample of street name corrections and a link to the full list of corrections is included below.\n",
    "\n",
    "```python\n",
    "def fix_street_name(name, mapping=MAPPING):\n",
    "    \"\"\"Splits tag.attrib['v'] and checks each string against MAPPING.\n",
    "    If there's a value match, the string is changed to the new value.\"\"\"\n",
    "    name = name.strip()\n",
    "    x = name.split()\n",
    "    for y in x:\n",
    "        if y in mapping:\n",
    "            name = name.replace(y, mapping[y])\n",
    "    return name\n",
    "```\n",
    "\n",
    "* <a href=\"https://github.com/trenton3983/UDACITY/blob/master/01_Data_Analyst/03_Data_Wrangling/Project%20-%20Data%20Wrangling/project_abbreviated_street_names.py\">List of Street Types - Excluding Expected</a>\n",
    "* <a href=\"https://github.com/trenton3983/UDACITY/blob/master/01_Data_Analyst/03_Data_Wrangling/Project%20-%20Data%20Wrangling/audited_street_names_full.txt\">Full list of corrected street names</a>\n",
    "\n",
    "#### Sample of Corrected Street Names\n",
    "<img style=\"float: left;\" src=\"https://raw.githubusercontent.com/trenton3983/UDACITY/master/01_Data_Analyst/03_Data_Wrangling/Images/project_fixed_street_names.PNG\">"
   ]
  },
  {
   "cell_type": "markdown",
   "metadata": {},
   "source": [
    "<a href=\"#osm_file_issues\">Back to Corrected OSM File Issues</a>\n",
    "<a id='add_clean'></a>"
   ]
  },
  {
   "cell_type": "markdown",
   "metadata": {},
   "source": [
    "### Additional Cleaning\n",
    "\n",
    "```sql\n",
    "SELECT value\n",
    "FROM (SELECT * FROM nodes_tags UNION ALL\n",
    "\tSELECT * FROM ways_tags) tags\n",
    "WHERE key='phone'\n",
    "GROUP BY value\n",
    "```\n",
    "\n",
    "The table below shows the various formats phone numbers come in.  They should be corrected to a standard format for consistency.\n",
    "\n",
    "<img style=\"float: left;\" src=\"https://raw.githubusercontent.com/trenton3983/UDACITY/master/01_Data_Analyst/03_Data_Wrangling/Images/project_phone_numbers.PNG\">"
   ]
  },
  {
   "cell_type": "markdown",
   "metadata": {},
   "source": [
    "<a href=\"#top_of_doc\">Back to Top</a>\n",
    "<a id='file_db_overview'></a>"
   ]
  },
  {
   "cell_type": "markdown",
   "metadata": {},
   "source": [
    "## File & Database Overview\n",
    "***\n",
    "* This section contains basic statistics about the Portland Metro OSM dataset and the SQLite queries used.\n",
    "* <a href=\"https://github.com/trenton3983/UDACITY/raw/master/01_Data_Analyst/03_Data_Wrangling/Project%20-%20Data%20Wrangling/portland_oregon_95_sample.7z\">Sample OSM</a>\n",
    "* <a href=\"https://1drv.ms/f/s!As2Kq3LjVaCGaUsnX6Dftgp0eb8\">Full Fixed DB - link will expire 2017/10/08</a>"
   ]
  },
  {
   "cell_type": "markdown",
   "metadata": {
    "collapsed": true
   },
   "source": [
    "### File Stats\n",
    "\n",
    "<img style=\"float: left;\" src=\"https://raw.githubusercontent.com/trenton3983/UDACITY/master/01_Data_Analyst/03_Data_Wrangling/Images/project_filename_stats.PNG\">"
   ]
  },
  {
   "cell_type": "markdown",
   "metadata": {
    "collapsed": true
   },
   "source": [
    "### Number of Node\n",
    "\n",
    "```sql\n",
    "SELECT COUNT(*) FROM nodes;\n",
    "```\n",
    "\n",
    "6,627,751"
   ]
  },
  {
   "cell_type": "markdown",
   "metadata": {},
   "source": [
    "### Number of Ways\n",
    "\n",
    "```sql\n",
    "SELECT COUNT(*) FROM ways;\n",
    "```\n",
    "\n",
    "865,354"
   ]
  },
  {
   "cell_type": "markdown",
   "metadata": {},
   "source": [
    "### Number of Distinct Contributers\n",
    "\n",
    "```sql\n",
    "SELECT COUNT(DISTINCT(users.uid))\n",
    "FROM (SELECT uid FROM nodes UNION ALL\n",
    "\tSELECT uid FROM ways) users;\n",
    "```\n",
    "\n",
    "1,392"
   ]
  },
  {
   "cell_type": "markdown",
   "metadata": {},
   "source": [
    "<a href=\"#top_of_doc\">Back To Top</a>\n",
    "<a id='db_exploration'></a>"
   ]
  },
  {
   "cell_type": "markdown",
   "metadata": {},
   "source": [
    "## Database Exploration\n",
    "***\n",
    "\n",
    "* This section highlights the basic topics of exploration from the dataset and the associated SQLite queries."
   ]
  },
  {
   "cell_type": "markdown",
   "metadata": {},
   "source": [
    "<a id='city_name_count'></a>"
   ]
  },
  {
   "cell_type": "markdown",
   "metadata": {},
   "source": [
    "### City Name Count\n",
    "\n",
    "* The OSM encompasses 74 cities.\n",
    "\n",
    "```sql\n",
    "SELECT tags.value, COUNT(*) as count\n",
    "FROM (SELECT * FROM nodes_tags UNION ALL\n",
    "\tSELECT * FROM ways_tags) tags\n",
    "WHERE tags.key LIKE 'city'\n",
    "GROUP BY tags.value\n",
    "ORDER BY count DESC;\n",
    "```\n",
    "\n",
    "<img style=\"float: left;\" src=\"https://raw.githubusercontent.com/trenton3983/UDACITY/master/01_Data_Analyst/03_Data_Wrangling/Images/project_city_count.PNG\">"
   ]
  },
  {
   "cell_type": "markdown",
   "metadata": {},
   "source": [
    "<a id='zip_code_count'></a>"
   ]
  },
  {
   "cell_type": "markdown",
   "metadata": {
    "collapsed": true
   },
   "source": [
    "### Zip Code Count\n",
    "\n",
    "* The OSM encompasses 116 zip codes.\n",
    "\n",
    "```sql\n",
    "SELECT tags.value, COUNT(*) as count\n",
    "FROM (SELECT * FROM nodes_tags\n",
    "\tUNION ALL\n",
    "\t\tSELECT * FROM ways_tags) tags\n",
    "WHERE tags.key='postcode'\n",
    "GROUP BY tags.value\n",
    "ORDER BY count DESC;\n",
    "```\n",
    "\n",
    "<img style=\"float: left;\" src=\"https://raw.githubusercontent.com/trenton3983/UDACITY/master/01_Data_Analyst/03_Data_Wrangling/Images/project_zip_code_count.PNG\">"
   ]
  },
  {
   "cell_type": "markdown",
   "metadata": {},
   "source": [
    "<a id='top_contributers'></a>"
   ]
  },
  {
   "cell_type": "markdown",
   "metadata": {},
   "source": [
    "### Top 10 Contributers\n",
    "\n",
    "* Total user contributions 7,493,105 by 1,392 users.\n",
    "* The top 2 contributers constitute %51.5 of the entries and the top 11, %88.7.\n",
    "\n",
    "```sql\n",
    "SELECT contrib.user, COUNT(*) as count\n",
    "FROM (SELECT user FROM nodes\n",
    "\tUNION ALL SELECT user FROM ways) contrib\n",
    "GROUP BY contrib.user\n",
    "ORDER BY count DESC\n",
    "LIMIT 10;\n",
    "```\n",
    "<img style=\"float: left;\" src=\"https://raw.githubusercontent.com/trenton3983/UDACITY/master/01_Data_Analyst/03_Data_Wrangling/Images/project_top_contributers.PNG\">\n"
   ]
  },
  {
   "cell_type": "markdown",
   "metadata": {
    "collapsed": true
   },
   "source": [
    "<a href=\"#top_of_doc\">Back To Top</a>\n",
    "<a id='int_notes'></a>"
   ]
  },
  {
   "cell_type": "markdown",
   "metadata": {},
   "source": [
    "## Interesting Explorations\n",
    "***\n",
    "\n",
    "* Delving into the data shows how much Portland appreciates parking, biking and coffee.  Apparently we like swimming too, eventhough it's only sunny for 3 months of the year."
   ]
  },
  {
   "cell_type": "markdown",
   "metadata": {},
   "source": [
    "### Top Amenities\n",
    "\n",
    "```sql\n",
    "SELECT tags.value, COUNT(*) as count\n",
    "FROM (SELECT * FROM nodes_tags UNION ALL\n",
    "\tSELECT * FROM ways_tags) tags\n",
    "WHERE tags.key='amenity'\n",
    "GROUP BY tags.value\n",
    "ORDER BY count DESC;\n",
    "```\n",
    "<img style=\"float: left;\" src=\"https://raw.githubusercontent.com/trenton3983/UDACITY/master/01_Data_Analyst/03_Data_Wrangling/Images/project_amenity.PNG\">\n"
   ]
  },
  {
   "cell_type": "markdown",
   "metadata": {},
   "source": [
    "### Top Cuisine\n",
    "\n",
    "```sql\n",
    "SELECT value, COUNT(*) as count\n",
    "FROM (SELECT * FROM nodes_tags UNION ALL\n",
    "\tSELECT * FROM ways_tags) tags\n",
    "WHERE key='cuisine'\n",
    "GROUP BY value\n",
    "ORDER BY count DESC;\n",
    "```\n",
    "<img style=\"float: left;\" src=\"https://raw.githubusercontent.com/trenton3983/UDACITY/master/01_Data_Analyst/03_Data_Wrangling/Images/project_cuisines.PNG\">"
   ]
  },
  {
   "cell_type": "markdown",
   "metadata": {},
   "source": [
    "### Sports Facilities\n",
    "\n",
    "```sql\n",
    "SELECT value, COUNT(*) as count\n",
    "FROM (SELECT * FROM nodes_tags UNION ALL\n",
    "\tSELECT * FROM ways_tags) tags\n",
    "WHERE key='sport'\n",
    "GROUP BY value\n",
    "ORDER BY count DESC;\n",
    "```\n",
    "<img style=\"float: left;\" src=\"https://raw.githubusercontent.com/trenton3983/UDACITY/master/01_Data_Analyst/03_Data_Wrangling/Images/project_sports.PNG\">\n"
   ]
  },
  {
   "cell_type": "markdown",
   "metadata": {},
   "source": [
    "<a href=\"#top_of_doc\">Back To Top</a>\n",
    "<a id='other_ideas'></a>"
   ]
  },
  {
   "cell_type": "markdown",
   "metadata": {},
   "source": [
    "## Other Ideas About the Dataset\n",
    "***"
   ]
  },
  {
   "cell_type": "markdown",
   "metadata": {},
   "source": [
    "\n",
    "\n",
    "#### Improving the Dataset\n",
    "* Increase the number of contributors, partiularly in rural or less frequented locations.  We can see, based upon <a href=\"#top_contributers\">Top 10 Contributers</a>, most of the data comes from the top 11 users and from <a href=\"#city_name_count\">City Name Count</a> we can see that of the 74 citys in the dataset, the vast majority of the data is for Portland and that some of the smaller cities only have 1 count.  The primary idea behind OSM \"... is a map of the world, created by people like you and free to use under an open license.\"  I had never heard of OSM prior to this project requirement, so some type of local outreach like <a href=\"https://www.meetup.com/OpenStreetMap-Portland/\">Meetup: OpenStreetMap Portland</a>, but in other communities might increase the user base.\n",
    "* Another idea for improving OSM is to import large datasets from other applications with a large number of users and geospatial data such as Google or Apple Maps or Pokemon Go to name a few.\n",
    "\n",
    "#### Benefits:\n",
    "* The single most obvious benefit is more users equates to more data. \n",
    "\n",
    "#### Potential Issues\n",
    "* The main issue with attracting more users is probably the process of reaching people that may be interested.\n",
    "    * Meetups are mostly free, but the volume is low.\n",
    "    * People have a tendency to ignore website ads\n",
    "    * Commercials cost money\n",
    "* Once a potential new user is found, there are addition roadblocks\n",
    "    * Monetary constraints with <a href=\"http://wiki.openstreetmap.org/wiki/Recording_GPS_tracks\">GPS equipment</a> acquisition\n",
    "    * Personal time contraints\n",
    "    * Technical hurdles:\n",
    "        * <a href=\"http://wiki.openstreetmap.org/wiki/How_to_contribute\">How to Contribute</a>\n",
    "        * <a href=\"http://wiki.openstreetmap.org/wiki/Contribute_map_data\">Contribute Map Data</a>\n",
    "* Large data imports from outside sources:\n",
    "    * Goes against the idea of a community based map\n",
    "    * \"We are only interested in 'free' data. We must be able to release the data with our OpenStreetMap License\"\n",
    "    * There are additional technical hurdles related to importing data\n",
    "        * <a href=\"http://wiki.openstreetmap.org/wiki/Import/Guidelines\">OSM Import Guidelines</a>\n",
    "        * The <a href=\"http://wiki.openstreetmap.org/wiki/TIGER\">Tiger Import</a> had to be spread over several months to prevent overloading the OSM servers\n",
    "        \n",
    "#### If You're Interested in Contributing to OpenStreetMaps\n",
    "* <a href=\"http://wiki.openstreetmap.org/wiki/Beginners%27_guide\">Beginner's Guide</a>\n"
   ]
  },
  {
   "cell_type": "markdown",
   "metadata": {},
   "source": [
    "<a href=\"#top_of_doc\">Back To Top</a>\n",
    "<a id='conclusion'></a>"
   ]
  },
  {
   "cell_type": "markdown",
   "metadata": {},
   "source": [
    "## Conclusion\n",
    "***"
   ]
  },
  {
   "cell_type": "markdown",
   "metadata": {
    "collapsed": true
   },
   "source": [
    "Based upon the collected data, as shown in <a href=\"#osm_file_issues\">Corrected OSM File Issues</a>, there are a relatively small number of issues.  Specifically, only 40 city names and 50 zip codes required standardization.  Additionally, fewer that 240 street names were transformed from short form to long form.\n",
    "\n",
    "As mentioned in <a href=\"#other_ideas\">Other Ideas About the Dataset</a>, the Portland data is very thorough, but the more rural communities surrounding Portland would benefit from more users and data.  Bringing awareness of the OSM project and its benefits in terms of data availability to potential new users seems to be an intergral component to the continued success of OSM."
   ]
  }
 ],
 "metadata": {
  "kernelspec": {
   "display_name": "Python 3",
   "language": "python",
   "name": "python3"
  },
  "language_info": {
   "codemirror_mode": {
    "name": "ipython",
    "version": 3
   },
   "file_extension": ".py",
   "mimetype": "text/x-python",
   "name": "python",
   "nbconvert_exporter": "python",
   "pygments_lexer": "ipython3",
   "version": "3.6.1"
  }
 },
 "nbformat": 4,
 "nbformat_minor": 1
}
