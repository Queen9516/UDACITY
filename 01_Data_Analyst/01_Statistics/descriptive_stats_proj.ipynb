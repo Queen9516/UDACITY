{
 "cells": [
  {
   "cell_type": "code",
   "execution_count": 47,
   "metadata": {
    "collapsed": true
   },
   "outputs": [],
   "source": [
    "import numpy as np\n",
    "import matplotlib.pyplot as plt\n",
    "import pprint\n",
    "from scipy import stats"
   ]
  },
  {
   "cell_type": "markdown",
   "metadata": {},
   "source": []
  },
  {
   "cell_type": "code",
   "execution_count": 52,
   "metadata": {
    "collapsed": true
   },
   "outputs": [],
   "source": [
    "random_cards = '7c 6d Ad\\\n",
    "                As Ks Js\\\n",
    "                8h 3d 5c\\\n",
    "                2c 5d 10s\\\n",
    "                Ad Ac Js\\\n",
    "                Qh Qc Jd\\\n",
    "                8d 2c 3h\\\n",
    "                10d 7s Qc\\\n",
    "                9s 2c Qc\\\n",
    "                10s Ks Kc\\\n",
    "                Kc Qc Js\\\n",
    "                3s 2c 5d\\\n",
    "                3h 8h 10c\\\n",
    "                Kd 6d 7c\\\n",
    "                5s Qh Jh\\\n",
    "                10d 9s 5d\\\n",
    "                9h 3s 5h\\\n",
    "                7d 6d Ah\\\n",
    "                5h 2c Kc\\\n",
    "                3d 9s 9c\\\n",
    "                3h Jh 10h\\\n",
    "                7s 10s Ah\\\n",
    "                2d 2h 8s\\\n",
    "                Ks 2c 3c\\\n",
    "                Jh Kd 5h\\\n",
    "                8s 9c Ah\\\n",
    "                Kd 2d 3h\\\n",
    "                6d Kc Ah\\\n",
    "                Jd 5h Js\\\n",
    "                2s 3h Jd'"
   ]
  },
  {
   "cell_type": "code",
   "execution_count": 53,
   "metadata": {},
   "outputs": [],
   "source": [
    "random_cards = random_cards.split()\n",
    "\n",
    "new_cards = []\n",
    "for card in random_cards:\n",
    "    card = card[0]\n",
    "    #print(f'old: {card}')\n",
    "    if card == 'A':\n",
    "        card = 1\n",
    "    elif card == 'J' or card == 'K' or card == 'Q':\n",
    "        card = 10\n",
    "    else:\n",
    "        card = int(card)\n",
    "        \n",
    "    #print(f'new: {card}')\n",
    "\n",
    "    new_cards.append(card)"
   ]
  },
  {
   "cell_type": "code",
   "execution_count": 54,
   "metadata": {},
   "outputs": [
    {
     "name": "stdout",
     "output_type": "stream",
     "text": [
      "['7c', '6d', 'Ad', 'As', 'Ks', 'Js', '8h', '3d', '5c', '2c', '5d', '10s', 'Ad', 'Ac', 'Js', 'Qh', 'Qc', 'Jd', '8d', '2c', '3h', '10d', '7s', 'Qc', '9s', '2c', 'Qc', '10s', 'Ks', 'Kc', 'Kc', 'Qc', 'Js', '3s', '2c', '5d', '3h', '8h', '10c', 'Kd', '6d', '7c', '5s', 'Qh', 'Jh', '10d', '9s', '5d', '9h', '3s', '5h', '7d', '6d', 'Ah', '5h', '2c', 'Kc', '3d', '9s', '9c', '3h', 'Jh', '10h', '7s', '10s', 'Ah', '2d', '2h', '8s', 'Ks', '2c', '3c', 'Jh', 'Kd', '5h', '8s', '9c', 'Ah', 'Kd', '2d', '3h', '6d', 'Kc', 'Ah', 'Jd', '5h', 'Js', '2s', '3h', 'Jd']\n",
      "[7, 6, 1, 1, 10, 10, 8, 3, 5, 2, 5, 1, 1, 1, 10, 10, 10, 10, 8, 2, 3, 1, 7, 10, 9, 2, 10, 1, 10, 10, 10, 10, 10, 3, 2, 5, 3, 8, 1, 10, 6, 7, 5, 10, 10, 1, 9, 5, 9, 3, 5, 7, 6, 1, 5, 2, 10, 3, 9, 9, 3, 10, 1, 7, 1, 1, 2, 2, 8, 10, 2, 3, 10, 10, 5, 8, 9, 1, 10, 2, 3, 6, 10, 1, 10, 5, 10, 2, 3, 10]\n"
     ]
    }
   ],
   "source": [
    "print(random_cards)\n",
    "print(new_cards)"
   ]
  },
  {
   "cell_type": "code",
   "execution_count": 55,
   "metadata": {
    "collapsed": true
   },
   "outputs": [],
   "source": [
    "summed_cards = []\n",
    "sum_three = []\n",
    "for i, card in enumerate(new_cards):\n",
    "    i += 1\n",
    "    sum_three.append(card)\n",
    "    if i%3 == 0:\n",
    "        summed_cards.append(sum(sum_three))\n",
    "        sum_three = []"
   ]
  },
  {
   "cell_type": "code",
   "execution_count": 56,
   "metadata": {},
   "outputs": [
    {
     "data": {
      "text/plain": [
       "[14, 21, 16, 8, 12, 30, 13, 18, 21, 21, 30, 10, 12, 23, 25, 15, 17, 14, 17, 21, 14, 9, 12, 15, 25, 18, 15, 17, 25, 15]"
      ]
     },
     "execution_count": 56,
     "metadata": {},
     "output_type": "execute_result"
    }
   ],
   "source": [
    "summed_cards"
   ]
  },
  {
   "cell_type": "code",
   "execution_count": 57,
   "metadata": {},
   "outputs": [
    {
     "data": {
      "text/plain": [
       "30"
      ]
     },
     "execution_count": 57,
     "metadata": {},
     "output_type": "execute_result"
    }
   ],
   "source": [
    "len(summed_cards)"
   ]
  },
  {
   "cell_type": "code",
   "execution_count": 83,
   "metadata": {
    "collapsed": true
   },
   "outputs": [],
   "source": [
    "cards_histo = np.histogram(summed_cards, 11)"
   ]
  },
  {
   "cell_type": "code",
   "execution_count": 84,
   "metadata": {},
   "outputs": [
    {
     "data": {
      "text/plain": [
       "array([2, 1, 4, 7, 4, 2, 4, 1, 3, 0, 2], dtype=int64)"
      ]
     },
     "execution_count": 84,
     "metadata": {},
     "output_type": "execute_result"
    }
   ],
   "source": [
    "cards_histo[0]"
   ]
  },
  {
   "cell_type": "code",
   "execution_count": 81,
   "metadata": {},
   "outputs": [
    {
     "data": {
      "image/png": "[encoded data removed]",
      "text/plain": [
       "<matplotlib.figure.Figure object at 0x00000296363CE748>"
      ]
     },
     "metadata": {},
     "output_type": "display_data"
    }
   ],
   "source": [
    "plt.hist(summed_cards, 11)\n",
    "plt.show()"
   ]
  },
  {
   "cell_type": "code",
   "execution_count": 90,
   "metadata": {},
   "outputs": [
    {
     "data": {
      "text/plain": [
       "17.433333333333334"
      ]
     },
     "execution_count": 90,
     "metadata": {},
     "output_type": "execute_result"
    }
   ],
   "source": [
    "np.mean(summed_cards)"
   ]
  },
  {
   "cell_type": "code",
   "execution_count": 66,
   "metadata": {},
   "outputs": [
    {
     "data": {
      "text/plain": [
       "523"
      ]
     },
     "execution_count": 66,
     "metadata": {},
     "output_type": "execute_result"
    }
   ],
   "source": [
    "sum(summed_cards)"
   ]
  },
  {
   "cell_type": "code",
   "execution_count": 67,
   "metadata": {},
   "outputs": [
    {
     "data": {
      "text/plain": [
       "17.433333333333334"
      ]
     },
     "execution_count": 67,
     "metadata": {},
     "output_type": "execute_result"
    }
   ],
   "source": [
    "523/30.0"
   ]
  },
  {
   "cell_type": "code",
   "execution_count": 68,
   "metadata": {},
   "outputs": [
    {
     "data": {
      "text/plain": [
       "16.5"
      ]
     },
     "execution_count": 68,
     "metadata": {},
     "output_type": "execute_result"
    }
   ],
   "source": [
    "np.median(summed_cards)"
   ]
  },
  {
   "cell_type": "code",
   "execution_count": 88,
   "metadata": {},
   "outputs": [
    {
     "data": {
      "text/plain": [
       "5.7396583662200262"
      ]
     },
     "execution_count": 88,
     "metadata": {},
     "output_type": "execute_result"
    }
   ],
   "source": [
    "np.std(summed_cards, ddof=1)"
   ]
  },
  {
   "cell_type": "code",
   "execution_count": 91,
   "metadata": {},
   "outputs": [
    {
     "data": {
      "text/plain": [
       "32.943678160919539"
      ]
     },
     "execution_count": 91,
     "metadata": {},
     "output_type": "execute_result"
    }
   ],
   "source": [
    "np.var(summed_cards, ddof=1)"
   ]
  },
  {
   "cell_type": "markdown",
   "metadata": {},
   "source": [
    "The interquartile range (IQR) is the difference between the 75th and 25th percentile of the data. It is a measure of the dispersion similar to standard deviation or variance, but is much more robust against outliers"
   ]
  },
  {
   "cell_type": "code",
   "execution_count": 93,
   "metadata": {},
   "outputs": [
    {
     "data": {
      "text/plain": [
       "7.0"
      ]
     },
     "execution_count": 93,
     "metadata": {},
     "output_type": "execute_result"
    }
   ],
   "source": [
    "stats.iqr(summed_cards)"
   ]
  },
  {
   "cell_type": "markdown",
   "metadata": {},
   "source": [
    "The sample mean is 19.53. The sample median is 18. The sample standard deviation is 5.69. The sample variance is 32.40. The interquartile range is 9."
   ]
  },
  {
   "cell_type": "markdown",
   "metadata": {},
   "source": [
    "Despite the fact that the original distribution was highly skewed, you probably saw that your sample data was less skewed in nature. The reason for this is the central limit theorem. While it is normally stated to describe the sampling distribution of the mean, it also works for the sum, since it's just scaling by a constant (the number of data points).\n",
    "\n",
    "Note that the original formulation of the central limit theorem actually assumes independence between observations that are summed or averaged. In this case, the sample size is small relative to the size of the population (3/52) that failing to meet the assumption of independence is no big deal for us."
   ]
  },
  {
   "cell_type": "markdown",
   "metadata": {},
   "source": [
    "The normal distribution is used to estimate these values, following the central limit theorem. Note that values have been computed exactly, rather than using a table, so there might be slight differences between your results and the grader. In addition, the grader assumes the discrete outputs to be centered on bars with bins at the half-integer values. For example, a sum of 20 is generated when the normal distribution rolls a value between 19.5 and 20.5.\n",
    "\n",
    "90% of all draw sums should fall between 10 and 29.\n",
    "\n",
    "Draws of at least 20 should occur with probability approximately 0.5023."
   ]
  },
  {
   "cell_type": "markdown",
   "metadata": {},
   "source": [
    "# Distribution of Card Deck"
   ]
  },
  {
   "cell_type": "code",
   "execution_count": 20,
   "metadata": {},
   "outputs": [
    {
     "data": {
      "image/png": "[encoded data removed]",
      "text/plain": [
       "<matplotlib.figure.Figure object at 0x000002963562E898>"
      ]
     },
     "metadata": {},
     "output_type": "display_data"
    }
   ],
   "source": [
    "deck = [1,1,1,1,2,2,2,2,3,3,3,3,4,4,4,4,5,5,5,5,6,6,6,6,7,7,7,7,8,8,8,8,9,9,9,9,\n",
    "       10,10,10,10,10,10,10,10,10,10,10,10,10,10,10,10]\n",
    "plt.hist(deck,10)\n",
    "plt.show()"
   ]
  },
  {
   "cell_type": "code",
   "execution_count": 21,
   "metadata": {},
   "outputs": [
    {
     "data": {
      "text/plain": [
       "7.0"
      ]
     },
     "execution_count": 21,
     "metadata": {},
     "output_type": "execute_result"
    }
   ],
   "source": [
    "np.median(deck)"
   ]
  },
  {
   "cell_type": "code",
   "execution_count": 22,
   "metadata": {},
   "outputs": [
    {
     "data": {
      "text/plain": [
       "3.1529079279875685"
      ]
     },
     "execution_count": 22,
     "metadata": {},
     "output_type": "execute_result"
    }
   ],
   "source": [
    "np.std(deck)"
   ]
  },
  {
   "cell_type": "code",
   "execution_count": 23,
   "metadata": {},
   "outputs": [
    {
     "data": {
      "text/plain": [
       "6.5384615384615383"
      ]
     },
     "execution_count": 23,
     "metadata": {},
     "output_type": "execute_result"
    }
   ],
   "source": [
    "np.mean(deck)"
   ]
  }
 ],
 "metadata": {
  "kernelspec": {
   "display_name": "Python 3",
   "language": "python",
   "name": "python3"
  },
  "language_info": {
   "codemirror_mode": {
    "name": "ipython",
    "version": 3
   },
   "file_extension": ".py",
   "mimetype": "text/x-python",
   "name": "python",
   "nbconvert_exporter": "python",
   "pygments_lexer": "ipython3",
   "version": "3.6.1"
  }
 },
 "nbformat": 4,
 "nbformat_minor": 2
}
